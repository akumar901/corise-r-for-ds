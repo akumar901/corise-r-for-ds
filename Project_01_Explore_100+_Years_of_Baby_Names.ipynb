{
  "nbformat": 4,
  "nbformat_minor": 0,
  "metadata": {
    "colab": {
      "provenance": [],
      "include_colab_link": true
    },
    "kernelspec": {
      "name": "ir",
      "display_name": "R"
    },
    "language_info": {
      "name": "R"
    }
  },
  "cells": [
    {
      "cell_type": "markdown",
      "metadata": {
        "id": "view-in-github",
        "colab_type": "text"
      },
      "source": [
        "<a href=\"https://colab.research.google.com/github/akumar901/corise-r-for-ds/blob/main/Project_01_Explore_100%2B_Years_of_Baby_Names.ipynb\" target=\"_parent\"><img src=\"https://colab.research.google.com/assets/colab-badge.svg\" alt=\"Open In Colab\"/></a>"
      ]
    },
    {
      "cell_type": "markdown",
      "source": [
        "> __DUPLICATE THIS COLAB TO START WORKING ON IT. Using File > Save a copy to drive.__\n"
      ],
      "metadata": {
        "id": "PyJIk3foxdFk"
      }
    },
    {
      "cell_type": "markdown",
      "source": [
        "## Exploring 100+ Years of US Baby Names\n",
        "\n",
        "In this project, we will explore 100+ years of US Baby Names. Although this dataset only has 4 columns, there are so many interesting  questions one could explore. While the possibilities are endless, here are five interesting questions for you to explore.\n",
        "\n",
        "1. Popular Names: What are the most popular names?\n",
        "2. Trendy Names: What are trendy names?\n",
        "3. Popular Letters: What are the most popular letters in names?\n",
        "4. Popular Letter Combinations: What are the most popular letter combinations?\n",
        "5. Vowels vs Consonants: Are there naming trends in usage of vowels and consonants?\n",
        "\n",
        "You need to complete at least the first three questions. The last two questions are optional."
      ],
      "metadata": {
        "id": "R8ScgVoiuQ_a"
      }
    },
    {
      "cell_type": "markdown",
      "source": [
        "### Import\n",
        "Let us start by importing the data from `data/names.csv.gz`. You can use the `read_csv` function from the `readr` package to do this."
      ],
      "metadata": {
        "id": "U1jA9o5YuWWH"
      }
    },
    {
      "cell_type": "code",
      "source": [
        "options(repr.plot.width = 12)\n",
        "options(repr.plot.height = 8)\n",
        "options(jupyter.plot_mimetypes = \"image/svg\") \n",
        "ggplot2::theme_set(ggplot2::theme_gray(base_size = 16))"
      ],
      "metadata": {
        "id": "IsacrSw4uEyc"
      },
      "execution_count": 1,
      "outputs": []
    },
    {
      "cell_type": "code",
      "execution_count": 6,
      "metadata": {
        "id": "cKUv7xeStYPr",
        "outputId": "da114391-e617-44c6-adff-ef1b663d9d4e",
        "colab": {
          "base_uri": "https://localhost:8080/"
        }
      },
      "outputs": [
        {
          "output_type": "stream",
          "name": "stdout",
          "text": [
            "\u001b[90m# A tibble: 2,052,781 × 4\u001b[39m\n",
            "    year name      sex   nb_births\n",
            "   \u001b[3m\u001b[90m<dbl>\u001b[39m\u001b[23m \u001b[3m\u001b[90m<chr>\u001b[39m\u001b[23m     \u001b[3m\u001b[90m<chr>\u001b[39m\u001b[23m     \u001b[3m\u001b[90m<dbl>\u001b[39m\u001b[23m\n",
            "\u001b[90m 1\u001b[39m  \u001b[4m1\u001b[24m880 Mary      F          \u001b[4m7\u001b[24m065\n",
            "\u001b[90m 2\u001b[39m  \u001b[4m1\u001b[24m880 Anna      F          \u001b[4m2\u001b[24m604\n",
            "\u001b[90m 3\u001b[39m  \u001b[4m1\u001b[24m880 Emma      F          \u001b[4m2\u001b[24m003\n",
            "\u001b[90m 4\u001b[39m  \u001b[4m1\u001b[24m880 Elizabeth F          \u001b[4m1\u001b[24m939\n",
            "\u001b[90m 5\u001b[39m  \u001b[4m1\u001b[24m880 Minnie    F          \u001b[4m1\u001b[24m746\n",
            "\u001b[90m 6\u001b[39m  \u001b[4m1\u001b[24m880 Margaret  F          \u001b[4m1\u001b[24m578\n",
            "\u001b[90m 7\u001b[39m  \u001b[4m1\u001b[24m880 Ida       F          \u001b[4m1\u001b[24m472\n",
            "\u001b[90m 8\u001b[39m  \u001b[4m1\u001b[24m880 Alice     F          \u001b[4m1\u001b[24m414\n",
            "\u001b[90m 9\u001b[39m  \u001b[4m1\u001b[24m880 Bertha    F          \u001b[4m1\u001b[24m320\n",
            "\u001b[90m10\u001b[39m  \u001b[4m1\u001b[24m880 Sarah     F          \u001b[4m1\u001b[24m288\n",
            "\u001b[90m# ℹ 2,052,771 more rows\u001b[39m\n"
          ]
        }
      ],
      "source": [
        "# Load the tidyverse package\n",
        "library(tidyverse)\n",
        "\n",
        "# Read the csv file `file_name_names` as data frame `tbl_names`\n",
        "file_name_names <- \"https://github.com/ramnathv/corise-r-for-ds/raw/main/data/names.csv.gz\"\n",
        "tbl_names <- readr::read_csv(\n",
        "  file = file_name_names, \n",
        "  show_col_types = FALSE\n",
        ")\n",
        "print(tbl_names)\n",
        "# Print head of `tbl_names`\n"
      ]
    },
    {
      "cell_type": "markdown",
      "source": [
        "### Question 1: [Popular Names] What are the most popular names?\n",
        "\n",
        "One of the first things we want to do is to understand naming trends. Let us \n",
        "start by figuring out the top five most popular male and female names for this \n",
        "decade (born 2011 and after, but before 2021). Do you want to make any guesses?  \n",
        "\n",
        "#### Transform\n",
        "\n",
        "The first step is always to transform the data into a form that is easy to visualize. If we create a table with `sex`, `name` and `nb_births` for the top 5 names for each `sex`, then we can turn it into a column plot using `ggplot2`. Let us get the five most popular male and female names of the decade starting in 2011."
      ],
      "metadata": {
        "id": "kZfY5wdbt0Cv"
      }
    },
    {
      "cell_type": "code",
      "source": [
        "tbl_names_popular = tbl_names |> \n",
        "  # Keep ROWS for year > 2010 and <= 2020\n",
        "  filter(year > 2010, year <= 2020) |> \n",
        "  # Group by sex and name\n",
        "  group_by(sex, name) |> \n",
        "  # Summarize the number of births\n",
        "  summarize(\n",
        "    nb_births = sum(nb_births),\n",
        "    .groups = \"drop\"\n",
        "  ) |> \n",
        "  # Group by sex \n",
        "  group_by(sex) |>  \n",
        "  # For each sex, keep the top 5 rows by number of births\n",
        "  slice_max(sex, n = 5)\n",
        "\n",
        "tbl_names_popular"
      ],
      "metadata": {
        "id": "3rPxUUcLt0bt",
        "outputId": "83fc74c2-cc3d-45f3-d2e1-202506022992",
        "colab": {
          "base_uri": "https://localhost:8080/",
          "height": 1000
        }
      },
      "execution_count": 3,
      "outputs": [
        {
          "output_type": "display_data",
          "data": {
            "text/html": [
              "<table class=\"dataframe\">\n",
              "<caption>A grouped_df: 59360 × 3</caption>\n",
              "<thead>\n",
              "\t<tr><th scope=col>sex</th><th scope=col>name</th><th scope=col>nb_births</th></tr>\n",
              "\t<tr><th scope=col>&lt;chr&gt;</th><th scope=col>&lt;chr&gt;</th><th scope=col>&lt;dbl&gt;</th></tr>\n",
              "</thead>\n",
              "<tbody>\n",
              "\t<tr><td>F</td><td>Aabha      </td><td>  46</td></tr>\n",
              "\t<tr><td>F</td><td>Aabidah    </td><td>   5</td></tr>\n",
              "\t<tr><td>F</td><td>Aabriella  </td><td>  46</td></tr>\n",
              "\t<tr><td>F</td><td>Aada       </td><td>  13</td></tr>\n",
              "\t<tr><td>F</td><td>Aadaya     </td><td>   9</td></tr>\n",
              "\t<tr><td>F</td><td>Aadhira    </td><td> 164</td></tr>\n",
              "\t<tr><td>F</td><td>Aadhvika   </td><td>  25</td></tr>\n",
              "\t<tr><td>F</td><td>Aadhya     </td><td>2143</td></tr>\n",
              "\t<tr><td>F</td><td>Aadhyareddy</td><td>   6</td></tr>\n",
              "\t<tr><td>F</td><td>Aadhyasri  </td><td>  21</td></tr>\n",
              "\t<tr><td>F</td><td>Aadi       </td><td>  11</td></tr>\n",
              "\t<tr><td>F</td><td>Aadilynn   </td><td>   5</td></tr>\n",
              "\t<tr><td>F</td><td>Aadison    </td><td>   5</td></tr>\n",
              "\t<tr><td>F</td><td>Aaditri    </td><td>  53</td></tr>\n",
              "\t<tr><td>F</td><td>Aadiya     </td><td>   5</td></tr>\n",
              "\t<tr><td>F</td><td>Aadrika    </td><td>  33</td></tr>\n",
              "\t<tr><td>F</td><td>Aadriti    </td><td>  24</td></tr>\n",
              "\t<tr><td>F</td><td>Aadvi      </td><td>   7</td></tr>\n",
              "\t<tr><td>F</td><td>Aadvika    </td><td>  87</td></tr>\n",
              "\t<tr><td>F</td><td>Aadya      </td><td>1304</td></tr>\n",
              "\t<tr><td>F</td><td>Aafia      </td><td>  11</td></tr>\n",
              "\t<tr><td>F</td><td>Aafiya     </td><td>  48</td></tr>\n",
              "\t<tr><td>F</td><td>Aafiyah    </td><td>  33</td></tr>\n",
              "\t<tr><td>F</td><td>Aagna      </td><td>   7</td></tr>\n",
              "\t<tr><td>F</td><td>Aahana     </td><td> 562</td></tr>\n",
              "\t<tr><td>F</td><td>Aaheli     </td><td>  10</td></tr>\n",
              "\t<tr><td>F</td><td>Aahlani    </td><td>   5</td></tr>\n",
              "\t<tr><td>F</td><td>Aahna      </td><td>  82</td></tr>\n",
              "\t<tr><td>F</td><td>Aaila      </td><td>  60</td></tr>\n",
              "\t<tr><td>F</td><td>Aailiyah   </td><td>  10</td></tr>\n",
              "\t<tr><td>⋮</td><td>⋮</td><td>⋮</td></tr>\n",
              "\t<tr><td>M</td><td>Zymeire  </td><td>   6</td></tr>\n",
              "\t<tr><td>M</td><td>Zymere   </td><td> 300</td></tr>\n",
              "\t<tr><td>M</td><td>Zymier   </td><td> 126</td></tr>\n",
              "\t<tr><td>M</td><td>Zymiere  </td><td>  35</td></tr>\n",
              "\t<tr><td>M</td><td>Zymir    </td><td> 729</td></tr>\n",
              "\t<tr><td>M</td><td>Zymire   </td><td> 111</td></tr>\n",
              "\t<tr><td>M</td><td>Zyn      </td><td>  10</td></tr>\n",
              "\t<tr><td>M</td><td>Zyon     </td><td>1639</td></tr>\n",
              "\t<tr><td>M</td><td>Zyonn    </td><td>  49</td></tr>\n",
              "\t<tr><td>M</td><td>Zyquan   </td><td>  76</td></tr>\n",
              "\t<tr><td>M</td><td>Zyquez   </td><td>   8</td></tr>\n",
              "\t<tr><td>M</td><td>Zyran    </td><td>  31</td></tr>\n",
              "\t<tr><td>M</td><td>Zyre     </td><td>   6</td></tr>\n",
              "\t<tr><td>M</td><td>Zyree    </td><td>  86</td></tr>\n",
              "\t<tr><td>M</td><td>Zyrell   </td><td>  81</td></tr>\n",
              "\t<tr><td>M</td><td>Zyren    </td><td>  97</td></tr>\n",
              "\t<tr><td>M</td><td>Zyreon   </td><td>   7</td></tr>\n",
              "\t<tr><td>M</td><td>Zyrie    </td><td>  33</td></tr>\n",
              "\t<tr><td>M</td><td>Zyrin    </td><td>  10</td></tr>\n",
              "\t<tr><td>M</td><td>Zyrion   </td><td>  56</td></tr>\n",
              "\t<tr><td>M</td><td>Zyron    </td><td> 122</td></tr>\n",
              "\t<tr><td>M</td><td>Zyrus    </td><td>  67</td></tr>\n",
              "\t<tr><td>M</td><td>Zyshawn  </td><td>  34</td></tr>\n",
              "\t<tr><td>M</td><td>Zytaevius</td><td>   5</td></tr>\n",
              "\t<tr><td>M</td><td>Zytaveon </td><td>  17</td></tr>\n",
              "\t<tr><td>M</td><td>Zytavion </td><td>   5</td></tr>\n",
              "\t<tr><td>M</td><td>Zyus     </td><td>  11</td></tr>\n",
              "\t<tr><td>M</td><td>Zyvon    </td><td>   7</td></tr>\n",
              "\t<tr><td>M</td><td>Zyyon    </td><td>   6</td></tr>\n",
              "\t<tr><td>M</td><td>Zzyzx    </td><td>   5</td></tr>\n",
              "</tbody>\n",
              "</table>\n"
            ],
            "text/markdown": "\nA grouped_df: 59360 × 3\n\n| sex &lt;chr&gt; | name &lt;chr&gt; | nb_births &lt;dbl&gt; |\n|---|---|---|\n| F | Aabha       |   46 |\n| F | Aabidah     |    5 |\n| F | Aabriella   |   46 |\n| F | Aada        |   13 |\n| F | Aadaya      |    9 |\n| F | Aadhira     |  164 |\n| F | Aadhvika    |   25 |\n| F | Aadhya      | 2143 |\n| F | Aadhyareddy |    6 |\n| F | Aadhyasri   |   21 |\n| F | Aadi        |   11 |\n| F | Aadilynn    |    5 |\n| F | Aadison     |    5 |\n| F | Aaditri     |   53 |\n| F | Aadiya      |    5 |\n| F | Aadrika     |   33 |\n| F | Aadriti     |   24 |\n| F | Aadvi       |    7 |\n| F | Aadvika     |   87 |\n| F | Aadya       | 1304 |\n| F | Aafia       |   11 |\n| F | Aafiya      |   48 |\n| F | Aafiyah     |   33 |\n| F | Aagna       |    7 |\n| F | Aahana      |  562 |\n| F | Aaheli      |   10 |\n| F | Aahlani     |    5 |\n| F | Aahna       |   82 |\n| F | Aaila       |   60 |\n| F | Aailiyah    |   10 |\n| ⋮ | ⋮ | ⋮ |\n| M | Zymeire   |    6 |\n| M | Zymere    |  300 |\n| M | Zymier    |  126 |\n| M | Zymiere   |   35 |\n| M | Zymir     |  729 |\n| M | Zymire    |  111 |\n| M | Zyn       |   10 |\n| M | Zyon      | 1639 |\n| M | Zyonn     |   49 |\n| M | Zyquan    |   76 |\n| M | Zyquez    |    8 |\n| M | Zyran     |   31 |\n| M | Zyre      |    6 |\n| M | Zyree     |   86 |\n| M | Zyrell    |   81 |\n| M | Zyren     |   97 |\n| M | Zyreon    |    7 |\n| M | Zyrie     |   33 |\n| M | Zyrin     |   10 |\n| M | Zyrion    |   56 |\n| M | Zyron     |  122 |\n| M | Zyrus     |   67 |\n| M | Zyshawn   |   34 |\n| M | Zytaevius |    5 |\n| M | Zytaveon  |   17 |\n| M | Zytavion  |    5 |\n| M | Zyus      |   11 |\n| M | Zyvon     |    7 |\n| M | Zyyon     |    6 |\n| M | Zzyzx     |    5 |\n\n",
            "text/latex": "A grouped\\_df: 59360 × 3\n\\begin{tabular}{lll}\n sex & name & nb\\_births\\\\\n <chr> & <chr> & <dbl>\\\\\n\\hline\n\t F & Aabha       &   46\\\\\n\t F & Aabidah     &    5\\\\\n\t F & Aabriella   &   46\\\\\n\t F & Aada        &   13\\\\\n\t F & Aadaya      &    9\\\\\n\t F & Aadhira     &  164\\\\\n\t F & Aadhvika    &   25\\\\\n\t F & Aadhya      & 2143\\\\\n\t F & Aadhyareddy &    6\\\\\n\t F & Aadhyasri   &   21\\\\\n\t F & Aadi        &   11\\\\\n\t F & Aadilynn    &    5\\\\\n\t F & Aadison     &    5\\\\\n\t F & Aaditri     &   53\\\\\n\t F & Aadiya      &    5\\\\\n\t F & Aadrika     &   33\\\\\n\t F & Aadriti     &   24\\\\\n\t F & Aadvi       &    7\\\\\n\t F & Aadvika     &   87\\\\\n\t F & Aadya       & 1304\\\\\n\t F & Aafia       &   11\\\\\n\t F & Aafiya      &   48\\\\\n\t F & Aafiyah     &   33\\\\\n\t F & Aagna       &    7\\\\\n\t F & Aahana      &  562\\\\\n\t F & Aaheli      &   10\\\\\n\t F & Aahlani     &    5\\\\\n\t F & Aahna       &   82\\\\\n\t F & Aaila       &   60\\\\\n\t F & Aailiyah    &   10\\\\\n\t ⋮ & ⋮ & ⋮\\\\\n\t M & Zymeire   &    6\\\\\n\t M & Zymere    &  300\\\\\n\t M & Zymier    &  126\\\\\n\t M & Zymiere   &   35\\\\\n\t M & Zymir     &  729\\\\\n\t M & Zymire    &  111\\\\\n\t M & Zyn       &   10\\\\\n\t M & Zyon      & 1639\\\\\n\t M & Zyonn     &   49\\\\\n\t M & Zyquan    &   76\\\\\n\t M & Zyquez    &    8\\\\\n\t M & Zyran     &   31\\\\\n\t M & Zyre      &    6\\\\\n\t M & Zyree     &   86\\\\\n\t M & Zyrell    &   81\\\\\n\t M & Zyren     &   97\\\\\n\t M & Zyreon    &    7\\\\\n\t M & Zyrie     &   33\\\\\n\t M & Zyrin     &   10\\\\\n\t M & Zyrion    &   56\\\\\n\t M & Zyron     &  122\\\\\n\t M & Zyrus     &   67\\\\\n\t M & Zyshawn   &   34\\\\\n\t M & Zytaevius &    5\\\\\n\t M & Zytaveon  &   17\\\\\n\t M & Zytavion  &    5\\\\\n\t M & Zyus      &   11\\\\\n\t M & Zyvon     &    7\\\\\n\t M & Zyyon     &    6\\\\\n\t M & Zzyzx     &    5\\\\\n\\end{tabular}\n",
            "text/plain": [
              "      sex name        nb_births\n",
              "1     F   Aabha         46     \n",
              "2     F   Aabidah        5     \n",
              "3     F   Aabriella     46     \n",
              "4     F   Aada          13     \n",
              "5     F   Aadaya         9     \n",
              "6     F   Aadhira      164     \n",
              "7     F   Aadhvika      25     \n",
              "8     F   Aadhya      2143     \n",
              "9     F   Aadhyareddy    6     \n",
              "10    F   Aadhyasri     21     \n",
              "11    F   Aadi          11     \n",
              "12    F   Aadilynn       5     \n",
              "13    F   Aadison        5     \n",
              "14    F   Aaditri       53     \n",
              "15    F   Aadiya         5     \n",
              "16    F   Aadrika       33     \n",
              "17    F   Aadriti       24     \n",
              "18    F   Aadvi          7     \n",
              "19    F   Aadvika       87     \n",
              "20    F   Aadya       1304     \n",
              "21    F   Aafia         11     \n",
              "22    F   Aafiya        48     \n",
              "23    F   Aafiyah       33     \n",
              "24    F   Aagna          7     \n",
              "25    F   Aahana       562     \n",
              "26    F   Aaheli        10     \n",
              "27    F   Aahlani        5     \n",
              "28    F   Aahna         82     \n",
              "29    F   Aaila         60     \n",
              "30    F   Aailiyah      10     \n",
              "⋮     ⋮   ⋮           ⋮        \n",
              "59331 M   Zymeire        6     \n",
              "59332 M   Zymere       300     \n",
              "59333 M   Zymier       126     \n",
              "59334 M   Zymiere       35     \n",
              "59335 M   Zymir        729     \n",
              "59336 M   Zymire       111     \n",
              "59337 M   Zyn           10     \n",
              "59338 M   Zyon        1639     \n",
              "59339 M   Zyonn         49     \n",
              "59340 M   Zyquan        76     \n",
              "59341 M   Zyquez         8     \n",
              "59342 M   Zyran         31     \n",
              "59343 M   Zyre           6     \n",
              "59344 M   Zyree         86     \n",
              "59345 M   Zyrell        81     \n",
              "59346 M   Zyren         97     \n",
              "59347 M   Zyreon         7     \n",
              "59348 M   Zyrie         33     \n",
              "59349 M   Zyrin         10     \n",
              "59350 M   Zyrion        56     \n",
              "59351 M   Zyron        122     \n",
              "59352 M   Zyrus         67     \n",
              "59353 M   Zyshawn       34     \n",
              "59354 M   Zytaevius      5     \n",
              "59355 M   Zytaveon      17     \n",
              "59356 M   Zytavion       5     \n",
              "59357 M   Zyus          11     \n",
              "59358 M   Zyvon          7     \n",
              "59359 M   Zyyon          6     \n",
              "59360 M   Zzyzx          5     "
            ]
          },
          "metadata": {}
        }
      ]
    },
    {
      "cell_type": "markdown",
      "source": [
        "#### Visualize\n",
        "\n",
        "Let us now visualize this data as a horizontal bar plot of number of births by name faceted by sex.\n",
        "\n",
        "Here, when thinking about how we might label this table, look back to the statement of the question. Make sure to use this information in a way so that the title, subtitle, and caption provide your reader with concise, descriptive language so that viewers can quickly grasp the plot's purpose and findings."
      ],
      "metadata": {
        "id": "R1pc_j7vt5G9"
      }
    },
    {
      "cell_type": "code",
      "source": [
        "tbl_names_popular |> \n",
        "  # Reorder the names by number of births\n",
        "  mutate(name = fct_reorder(name, nb_births)) |>\n",
        "  # Initialize a ggplot for name vs. nb_births\n",
        "  ggplot(aes(x = nb_births, y = name)) +\n",
        "  # Add a column plot layer\n",
        "  geom_col() +\n",
        "  # Facet the plots by sex\n",
        "  facet_wrap(~ sex, scales = \"free_y\") +\n",
        "  # Add labels (title, subtitle, caption, x, y)\n",
        "  labs(\n",
        "    title = 'Most popular baby names in US',\n",
        "    subtitle = 'Mary is the most popular name',\n",
        "    caption = 'source:ssa',\n",
        "    x = 'nb_births',\n",
        "    y = 'name'\n",
        "  ) +\n",
        "  # Fix the x-axis scale \n",
        "  scale_x_continuous(\n",
        "    labels = scales::unit_format(scale = 1e-3, unit = \"K\"),\n",
        "    expand = c(0, 0),\n",
        "  ) +\n",
        "  # Move the plot title to top left\n",
        "  theme(\n",
        "    plot.title.position = 'plot'\n",
        "  )"
      ],
      "metadata": {
        "id": "Ua0bndPVt5el",
        "outputId": "f4c57f01-5c1e-4fb4-f463-dab55d552225",
        "colab": {
          "base_uri": "https://localhost:8080/",
          "height": 97
        }
      },
      "execution_count": 7,
      "outputs": [
        {
          "output_type": "error",
          "ename": "ERROR",
          "evalue": "ignored",
          "traceback": [
            "Error in doTryCatch(return(expr), name, parentenv, handler): attempt to apply non-function\nTraceback:\n"
          ]
        },
        {
          "output_type": "display_data",
          "data": {},
          "metadata": {
            "image/svg": {
              "width": 720,
              "height": 480
            }
          }
        }
      ]
    },
    {
      "cell_type": "markdown",
      "source": [
        "### Question 2: [Trendy Names] What are trendy names?\n",
        "\n",
        "Consider the following two names `Elizabeth` and `Deneen`. `Elizabeth` is a \n",
        "fairly stable name, while `Deneen` is not, when one looks at trends. An interesting question to ask would be what are the top 5 stable and top 5 \n",
        "trendiest names. A stable name is one whose numbers across years don't vary drastically, while a trendy name is one whose popularity peaks for a short period \n",
        "and then dies down.\n",
        "\n",
        "There are many ways to capture trendiness. A simple measure would be to look at the maximum number of births for a name, normalized by the sum of \n",
        "of births across years. A trendy name would have a high value.\n",
        "\n",
        "Let us use this idea to figure out the top 10 trendy names in this data set. Let\n",
        "us use a cutoff of at least a 1000 births across all the years, so we don't pick up low-volume names. Feel free to experiment with this threshold as you see fit.\n",
        "\n",
        "#### Transform\n",
        "\n",
        "We need to transform the data into a table that consists of the columns `sex`, `name`, `nb_births_total`, `nb_births_max` and `trendiness`. We compute \n",
        "`nb_births_total` as the total number of births across all years, and `nb_births_max` as the maximum number of births for a given name across all years. Finally, we compute trendiness as a ratio of these two numbers. Follow the recipe outlined below to carry out the transformation."
      ],
      "metadata": {
        "id": "qWk6IP1Ducnr"
      }
    },
    {
      "cell_type": "code",
      "source": [
        "tbl_names_popular_trendy = tbl_names |> \n",
        "  # Group by sex and name\n",
        "  group_by(sex, name) |> \n",
        "  # Summarize total number of births and max births in a year\n",
        "  summarize(\n",
        "    nb_births_total = sum(nb_births),\n",
        "    nb_births_max = sum(nb_births),\n",
        "    .groups = \"drop\"\n",
        "  ) |> \n",
        "  # Filter for names with at least 10000 births\n",
        "  filter(name > 10000) |> \n",
        "  # Add a column for trendiness computed as ratio of max to total\n",
        "  mutate(trendiness = nb_births_max / nb_births_total) |> \n",
        "  # Group by sex\n",
        "  group_by(sex) |> \n",
        "  # Slice top 5 rows by trendiness for each group\n",
        "  slice_max(trendiness, n = 5)\n",
        "\n",
        "tbl_names_popular_trendy"
      ],
      "metadata": {
        "id": "ny07bmMkudk-",
        "outputId": "9e305d0b-3cfb-4b69-a0e9-d68d815056df",
        "colab": {
          "base_uri": "https://localhost:8080/",
          "height": 1000
        }
      },
      "execution_count": 8,
      "outputs": [
        {
          "output_type": "display_data",
          "data": {
            "text/html": [
              "<table class=\"dataframe\">\n",
              "<caption>A grouped_df: 112620 × 5</caption>\n",
              "<thead>\n",
              "\t<tr><th scope=col>sex</th><th scope=col>name</th><th scope=col>nb_births_total</th><th scope=col>nb_births_max</th><th scope=col>trendiness</th></tr>\n",
              "\t<tr><th scope=col>&lt;chr&gt;</th><th scope=col>&lt;chr&gt;</th><th scope=col>&lt;dbl&gt;</th><th scope=col>&lt;dbl&gt;</th><th scope=col>&lt;dbl&gt;</th></tr>\n",
              "</thead>\n",
              "<tbody>\n",
              "\t<tr><td>F</td><td>Aabha      </td><td>  51</td><td>  51</td><td>1</td></tr>\n",
              "\t<tr><td>F</td><td>Aabidah    </td><td>   5</td><td>   5</td><td>1</td></tr>\n",
              "\t<tr><td>F</td><td>Aabriella  </td><td>  51</td><td>  51</td><td>1</td></tr>\n",
              "\t<tr><td>F</td><td>Aada       </td><td>  13</td><td>  13</td><td>1</td></tr>\n",
              "\t<tr><td>F</td><td>Aadaya     </td><td>   9</td><td>   9</td><td>1</td></tr>\n",
              "\t<tr><td>F</td><td>Aaden      </td><td>   5</td><td>   5</td><td>1</td></tr>\n",
              "\t<tr><td>F</td><td>Aadhini    </td><td>   7</td><td>   7</td><td>1</td></tr>\n",
              "\t<tr><td>F</td><td>Aadhira    </td><td> 200</td><td> 200</td><td>1</td></tr>\n",
              "\t<tr><td>F</td><td>Aadhirai   </td><td>   5</td><td>   5</td><td>1</td></tr>\n",
              "\t<tr><td>F</td><td>Aadhvika   </td><td>  31</td><td>  31</td><td>1</td></tr>\n",
              "\t<tr><td>F</td><td>Aadhya     </td><td>2408</td><td>2408</td><td>1</td></tr>\n",
              "\t<tr><td>F</td><td>Aadhyareddy</td><td>  14</td><td>  14</td><td>1</td></tr>\n",
              "\t<tr><td>F</td><td>Aadhyasri  </td><td>  21</td><td>  21</td><td>1</td></tr>\n",
              "\t<tr><td>F</td><td>Aadi       </td><td>  16</td><td>  16</td><td>1</td></tr>\n",
              "\t<tr><td>F</td><td>Aadilynn   </td><td>   5</td><td>   5</td><td>1</td></tr>\n",
              "\t<tr><td>F</td><td>Aadison    </td><td>  11</td><td>  11</td><td>1</td></tr>\n",
              "\t<tr><td>F</td><td>Aaditri    </td><td>  65</td><td>  65</td><td>1</td></tr>\n",
              "\t<tr><td>F</td><td>Aadiya     </td><td>   5</td><td>   5</td><td>1</td></tr>\n",
              "\t<tr><td>F</td><td>Aadrika    </td><td>  33</td><td>  33</td><td>1</td></tr>\n",
              "\t<tr><td>F</td><td>Aadriti    </td><td>  32</td><td>  32</td><td>1</td></tr>\n",
              "\t<tr><td>F</td><td>Aadvi      </td><td>  12</td><td>  12</td><td>1</td></tr>\n",
              "\t<tr><td>F</td><td>Aadvika    </td><td> 102</td><td> 102</td><td>1</td></tr>\n",
              "\t<tr><td>F</td><td>Aadya      </td><td>1577</td><td>1577</td><td>1</td></tr>\n",
              "\t<tr><td>F</td><td>Aadyn      </td><td>  16</td><td>  16</td><td>1</td></tr>\n",
              "\t<tr><td>F</td><td>Aafia      </td><td>  16</td><td>  16</td><td>1</td></tr>\n",
              "\t<tr><td>F</td><td>Aafiya     </td><td>  56</td><td>  56</td><td>1</td></tr>\n",
              "\t<tr><td>F</td><td>Aafiyah    </td><td>  43</td><td>  43</td><td>1</td></tr>\n",
              "\t<tr><td>F</td><td>Aafreen    </td><td>   5</td><td>   5</td><td>1</td></tr>\n",
              "\t<tr><td>F</td><td>Aagna      </td><td>   7</td><td>   7</td><td>1</td></tr>\n",
              "\t<tr><td>F</td><td>Aagot      </td><td>   5</td><td>   5</td><td>1</td></tr>\n",
              "\t<tr><td>⋮</td><td>⋮</td><td>⋮</td><td>⋮</td><td>⋮</td></tr>\n",
              "\t<tr><td>M</td><td>Zyquez   </td><td> 38</td><td> 38</td><td>1</td></tr>\n",
              "\t<tr><td>M</td><td>Zyran    </td><td> 41</td><td> 41</td><td>1</td></tr>\n",
              "\t<tr><td>M</td><td>Zyre     </td><td>  6</td><td>  6</td><td>1</td></tr>\n",
              "\t<tr><td>M</td><td>Zyree    </td><td>122</td><td>122</td><td>1</td></tr>\n",
              "\t<tr><td>M</td><td>Zyreion  </td><td>  5</td><td>  5</td><td>1</td></tr>\n",
              "\t<tr><td>M</td><td>Zyrek    </td><td>  5</td><td>  5</td><td>1</td></tr>\n",
              "\t<tr><td>M</td><td>Zyrell   </td><td>145</td><td>145</td><td>1</td></tr>\n",
              "\t<tr><td>M</td><td>Zyren    </td><td>144</td><td>144</td><td>1</td></tr>\n",
              "\t<tr><td>M</td><td>Zyreon   </td><td> 14</td><td> 14</td><td>1</td></tr>\n",
              "\t<tr><td>M</td><td>Zyrese   </td><td>  5</td><td>  5</td><td>1</td></tr>\n",
              "\t<tr><td>M</td><td>Zyrian   </td><td> 10</td><td> 10</td><td>1</td></tr>\n",
              "\t<tr><td>M</td><td>Zyrie    </td><td> 39</td><td> 39</td><td>1</td></tr>\n",
              "\t<tr><td>M</td><td>Zyrin    </td><td> 10</td><td> 10</td><td>1</td></tr>\n",
              "\t<tr><td>M</td><td>Zyrion   </td><td>101</td><td>101</td><td>1</td></tr>\n",
              "\t<tr><td>M</td><td>Zyron    </td><td>246</td><td>246</td><td>1</td></tr>\n",
              "\t<tr><td>M</td><td>Zyrus    </td><td>107</td><td>107</td><td>1</td></tr>\n",
              "\t<tr><td>M</td><td>Zysean   </td><td>  5</td><td>  5</td><td>1</td></tr>\n",
              "\t<tr><td>M</td><td>Zyshaun  </td><td> 34</td><td> 34</td><td>1</td></tr>\n",
              "\t<tr><td>M</td><td>Zyshawn  </td><td>146</td><td>146</td><td>1</td></tr>\n",
              "\t<tr><td>M</td><td>Zyshon   </td><td> 19</td><td> 19</td><td>1</td></tr>\n",
              "\t<tr><td>M</td><td>Zyshonne </td><td>101</td><td>101</td><td>1</td></tr>\n",
              "\t<tr><td>M</td><td>Zytaevius</td><td>  5</td><td>  5</td><td>1</td></tr>\n",
              "\t<tr><td>M</td><td>Zytaveon </td><td> 17</td><td> 17</td><td>1</td></tr>\n",
              "\t<tr><td>M</td><td>Zytavion </td><td>  5</td><td>  5</td><td>1</td></tr>\n",
              "\t<tr><td>M</td><td>Zytavious</td><td> 43</td><td> 43</td><td>1</td></tr>\n",
              "\t<tr><td>M</td><td>Zyus     </td><td> 11</td><td> 11</td><td>1</td></tr>\n",
              "\t<tr><td>M</td><td>Zyvion   </td><td>  5</td><td>  5</td><td>1</td></tr>\n",
              "\t<tr><td>M</td><td>Zyvon    </td><td>  7</td><td>  7</td><td>1</td></tr>\n",
              "\t<tr><td>M</td><td>Zyyon    </td><td>  6</td><td>  6</td><td>1</td></tr>\n",
              "\t<tr><td>M</td><td>Zzyzx    </td><td> 10</td><td> 10</td><td>1</td></tr>\n",
              "</tbody>\n",
              "</table>\n"
            ],
            "text/markdown": "\nA grouped_df: 112620 × 5\n\n| sex &lt;chr&gt; | name &lt;chr&gt; | nb_births_total &lt;dbl&gt; | nb_births_max &lt;dbl&gt; | trendiness &lt;dbl&gt; |\n|---|---|---|---|---|\n| F | Aabha       |   51 |   51 | 1 |\n| F | Aabidah     |    5 |    5 | 1 |\n| F | Aabriella   |   51 |   51 | 1 |\n| F | Aada        |   13 |   13 | 1 |\n| F | Aadaya      |    9 |    9 | 1 |\n| F | Aaden       |    5 |    5 | 1 |\n| F | Aadhini     |    7 |    7 | 1 |\n| F | Aadhira     |  200 |  200 | 1 |\n| F | Aadhirai    |    5 |    5 | 1 |\n| F | Aadhvika    |   31 |   31 | 1 |\n| F | Aadhya      | 2408 | 2408 | 1 |\n| F | Aadhyareddy |   14 |   14 | 1 |\n| F | Aadhyasri   |   21 |   21 | 1 |\n| F | Aadi        |   16 |   16 | 1 |\n| F | Aadilynn    |    5 |    5 | 1 |\n| F | Aadison     |   11 |   11 | 1 |\n| F | Aaditri     |   65 |   65 | 1 |\n| F | Aadiya      |    5 |    5 | 1 |\n| F | Aadrika     |   33 |   33 | 1 |\n| F | Aadriti     |   32 |   32 | 1 |\n| F | Aadvi       |   12 |   12 | 1 |\n| F | Aadvika     |  102 |  102 | 1 |\n| F | Aadya       | 1577 | 1577 | 1 |\n| F | Aadyn       |   16 |   16 | 1 |\n| F | Aafia       |   16 |   16 | 1 |\n| F | Aafiya      |   56 |   56 | 1 |\n| F | Aafiyah     |   43 |   43 | 1 |\n| F | Aafreen     |    5 |    5 | 1 |\n| F | Aagna       |    7 |    7 | 1 |\n| F | Aagot       |    5 |    5 | 1 |\n| ⋮ | ⋮ | ⋮ | ⋮ | ⋮ |\n| M | Zyquez    |  38 |  38 | 1 |\n| M | Zyran     |  41 |  41 | 1 |\n| M | Zyre      |   6 |   6 | 1 |\n| M | Zyree     | 122 | 122 | 1 |\n| M | Zyreion   |   5 |   5 | 1 |\n| M | Zyrek     |   5 |   5 | 1 |\n| M | Zyrell    | 145 | 145 | 1 |\n| M | Zyren     | 144 | 144 | 1 |\n| M | Zyreon    |  14 |  14 | 1 |\n| M | Zyrese    |   5 |   5 | 1 |\n| M | Zyrian    |  10 |  10 | 1 |\n| M | Zyrie     |  39 |  39 | 1 |\n| M | Zyrin     |  10 |  10 | 1 |\n| M | Zyrion    | 101 | 101 | 1 |\n| M | Zyron     | 246 | 246 | 1 |\n| M | Zyrus     | 107 | 107 | 1 |\n| M | Zysean    |   5 |   5 | 1 |\n| M | Zyshaun   |  34 |  34 | 1 |\n| M | Zyshawn   | 146 | 146 | 1 |\n| M | Zyshon    |  19 |  19 | 1 |\n| M | Zyshonne  | 101 | 101 | 1 |\n| M | Zytaevius |   5 |   5 | 1 |\n| M | Zytaveon  |  17 |  17 | 1 |\n| M | Zytavion  |   5 |   5 | 1 |\n| M | Zytavious |  43 |  43 | 1 |\n| M | Zyus      |  11 |  11 | 1 |\n| M | Zyvion    |   5 |   5 | 1 |\n| M | Zyvon     |   7 |   7 | 1 |\n| M | Zyyon     |   6 |   6 | 1 |\n| M | Zzyzx     |  10 |  10 | 1 |\n\n",
            "text/latex": "A grouped\\_df: 112620 × 5\n\\begin{tabular}{lllll}\n sex & name & nb\\_births\\_total & nb\\_births\\_max & trendiness\\\\\n <chr> & <chr> & <dbl> & <dbl> & <dbl>\\\\\n\\hline\n\t F & Aabha       &   51 &   51 & 1\\\\\n\t F & Aabidah     &    5 &    5 & 1\\\\\n\t F & Aabriella   &   51 &   51 & 1\\\\\n\t F & Aada        &   13 &   13 & 1\\\\\n\t F & Aadaya      &    9 &    9 & 1\\\\\n\t F & Aaden       &    5 &    5 & 1\\\\\n\t F & Aadhini     &    7 &    7 & 1\\\\\n\t F & Aadhira     &  200 &  200 & 1\\\\\n\t F & Aadhirai    &    5 &    5 & 1\\\\\n\t F & Aadhvika    &   31 &   31 & 1\\\\\n\t F & Aadhya      & 2408 & 2408 & 1\\\\\n\t F & Aadhyareddy &   14 &   14 & 1\\\\\n\t F & Aadhyasri   &   21 &   21 & 1\\\\\n\t F & Aadi        &   16 &   16 & 1\\\\\n\t F & Aadilynn    &    5 &    5 & 1\\\\\n\t F & Aadison     &   11 &   11 & 1\\\\\n\t F & Aaditri     &   65 &   65 & 1\\\\\n\t F & Aadiya      &    5 &    5 & 1\\\\\n\t F & Aadrika     &   33 &   33 & 1\\\\\n\t F & Aadriti     &   32 &   32 & 1\\\\\n\t F & Aadvi       &   12 &   12 & 1\\\\\n\t F & Aadvika     &  102 &  102 & 1\\\\\n\t F & Aadya       & 1577 & 1577 & 1\\\\\n\t F & Aadyn       &   16 &   16 & 1\\\\\n\t F & Aafia       &   16 &   16 & 1\\\\\n\t F & Aafiya      &   56 &   56 & 1\\\\\n\t F & Aafiyah     &   43 &   43 & 1\\\\\n\t F & Aafreen     &    5 &    5 & 1\\\\\n\t F & Aagna       &    7 &    7 & 1\\\\\n\t F & Aagot       &    5 &    5 & 1\\\\\n\t ⋮ & ⋮ & ⋮ & ⋮ & ⋮\\\\\n\t M & Zyquez    &  38 &  38 & 1\\\\\n\t M & Zyran     &  41 &  41 & 1\\\\\n\t M & Zyre      &   6 &   6 & 1\\\\\n\t M & Zyree     & 122 & 122 & 1\\\\\n\t M & Zyreion   &   5 &   5 & 1\\\\\n\t M & Zyrek     &   5 &   5 & 1\\\\\n\t M & Zyrell    & 145 & 145 & 1\\\\\n\t M & Zyren     & 144 & 144 & 1\\\\\n\t M & Zyreon    &  14 &  14 & 1\\\\\n\t M & Zyrese    &   5 &   5 & 1\\\\\n\t M & Zyrian    &  10 &  10 & 1\\\\\n\t M & Zyrie     &  39 &  39 & 1\\\\\n\t M & Zyrin     &  10 &  10 & 1\\\\\n\t M & Zyrion    & 101 & 101 & 1\\\\\n\t M & Zyron     & 246 & 246 & 1\\\\\n\t M & Zyrus     & 107 & 107 & 1\\\\\n\t M & Zysean    &   5 &   5 & 1\\\\\n\t M & Zyshaun   &  34 &  34 & 1\\\\\n\t M & Zyshawn   & 146 & 146 & 1\\\\\n\t M & Zyshon    &  19 &  19 & 1\\\\\n\t M & Zyshonne  & 101 & 101 & 1\\\\\n\t M & Zytaevius &   5 &   5 & 1\\\\\n\t M & Zytaveon  &  17 &  17 & 1\\\\\n\t M & Zytavion  &   5 &   5 & 1\\\\\n\t M & Zytavious &  43 &  43 & 1\\\\\n\t M & Zyus      &  11 &  11 & 1\\\\\n\t M & Zyvion    &   5 &   5 & 1\\\\\n\t M & Zyvon     &   7 &   7 & 1\\\\\n\t M & Zyyon     &   6 &   6 & 1\\\\\n\t M & Zzyzx     &  10 &  10 & 1\\\\\n\\end{tabular}\n",
            "text/plain": [
              "       sex name        nb_births_total nb_births_max trendiness\n",
              "1      F   Aabha         51              51          1         \n",
              "2      F   Aabidah        5               5          1         \n",
              "3      F   Aabriella     51              51          1         \n",
              "4      F   Aada          13              13          1         \n",
              "5      F   Aadaya         9               9          1         \n",
              "6      F   Aaden          5               5          1         \n",
              "7      F   Aadhini        7               7          1         \n",
              "8      F   Aadhira      200             200          1         \n",
              "9      F   Aadhirai       5               5          1         \n",
              "10     F   Aadhvika      31              31          1         \n",
              "11     F   Aadhya      2408            2408          1         \n",
              "12     F   Aadhyareddy   14              14          1         \n",
              "13     F   Aadhyasri     21              21          1         \n",
              "14     F   Aadi          16              16          1         \n",
              "15     F   Aadilynn       5               5          1         \n",
              "16     F   Aadison       11              11          1         \n",
              "17     F   Aaditri       65              65          1         \n",
              "18     F   Aadiya         5               5          1         \n",
              "19     F   Aadrika       33              33          1         \n",
              "20     F   Aadriti       32              32          1         \n",
              "21     F   Aadvi         12              12          1         \n",
              "22     F   Aadvika      102             102          1         \n",
              "23     F   Aadya       1577            1577          1         \n",
              "24     F   Aadyn         16              16          1         \n",
              "25     F   Aafia         16              16          1         \n",
              "26     F   Aafiya        56              56          1         \n",
              "27     F   Aafiyah       43              43          1         \n",
              "28     F   Aafreen        5               5          1         \n",
              "29     F   Aagna          7               7          1         \n",
              "30     F   Aagot          5               5          1         \n",
              "⋮      ⋮   ⋮           ⋮               ⋮             ⋮         \n",
              "112591 M   Zyquez       38              38           1         \n",
              "112592 M   Zyran        41              41           1         \n",
              "112593 M   Zyre          6               6           1         \n",
              "112594 M   Zyree       122             122           1         \n",
              "112595 M   Zyreion       5               5           1         \n",
              "112596 M   Zyrek         5               5           1         \n",
              "112597 M   Zyrell      145             145           1         \n",
              "112598 M   Zyren       144             144           1         \n",
              "112599 M   Zyreon       14              14           1         \n",
              "112600 M   Zyrese        5               5           1         \n",
              "112601 M   Zyrian       10              10           1         \n",
              "112602 M   Zyrie        39              39           1         \n",
              "112603 M   Zyrin        10              10           1         \n",
              "112604 M   Zyrion      101             101           1         \n",
              "112605 M   Zyron       246             246           1         \n",
              "112606 M   Zyrus       107             107           1         \n",
              "112607 M   Zysean        5               5           1         \n",
              "112608 M   Zyshaun      34              34           1         \n",
              "112609 M   Zyshawn     146             146           1         \n",
              "112610 M   Zyshon       19              19           1         \n",
              "112611 M   Zyshonne    101             101           1         \n",
              "112612 M   Zytaevius     5               5           1         \n",
              "112613 M   Zytaveon     17              17           1         \n",
              "112614 M   Zytavion      5               5           1         \n",
              "112615 M   Zytavious    43              43           1         \n",
              "112616 M   Zyus         11              11           1         \n",
              "112617 M   Zyvion        5               5           1         \n",
              "112618 M   Zyvon         7               7           1         \n",
              "112619 M   Zyyon         6               6           1         \n",
              "112620 M   Zzyzx        10              10           1         "
            ]
          },
          "metadata": {}
        }
      ]
    },
    {
      "cell_type": "markdown",
      "source": [
        "\n",
        "Note: There are always several different approaches to the same transformation. When it comes to learning, there's no one-size-fits-all solution. One way to make your learning stick is by trying to solve a problem in different ways. Even if you don't get to the final answer, you will learn a lot by exploring different approaches."
      ],
      "metadata": {
        "id": "DEAeeSujulQ0"
      }
    },
    {
      "cell_type": "markdown",
      "source": [
        "#### Visualize\n",
        "\n",
        "Let us write a function that will accept a name as an argument and return a plot with trends in number of births. We can then use this function to plot the trends for different names."
      ],
      "metadata": {
        "id": "1epLgxtDuqVo"
      }
    },
    {
      "cell_type": "code",
      "source": [
        "plot_trends_in_name <- function(my_name) {\n",
        "  tbl_names |> \n",
        "    # Filter for name = my_name\n",
        "    filter(name == my_name) |> \n",
        "    # Initialize a ggplot of `nb_births` vs. `year` colored by `sex`\n",
        "    ggplot(aes(x = nb_births, y = year, color = sex)) +\n",
        "    # Add a line layer\n",
        "    geom_line() +\n",
        "    # Add labels (title, x, y)\n",
        "    labs(\n",
        "      title = glue::glue(\"Babies named {my_name} across the years!\"),\n",
        "      x = 'nb_births',\n",
        "      y = 'year'\n",
        "    ) +\n",
        "    # Update plot theme\n",
        "    theme(plot.title.position = \"plot\")\n",
        "}\n",
        "plot_trends_in_name(\"Steve\")\n",
        "plot_trends_in_name(\"Barbara\")"
      ],
      "metadata": {
        "id": "6QXMUSvbufd7",
        "outputId": "bc7a03ab-7c40-474e-c76c-7d8646763c8a",
        "colab": {
          "base_uri": "https://localhost:8080/",
          "height": 176
        }
      },
      "execution_count": 9,
      "outputs": [
        {
          "output_type": "error",
          "ename": "ERROR",
          "evalue": "ignored",
          "traceback": [
            "Error in mime2repr[[mime]](plotobj, w, h): attempt to apply non-function\nTraceback:\n"
          ]
        },
        {
          "output_type": "display_data",
          "data": {},
          "metadata": {
            "image/svg": {
              "width": 720,
              "height": 480
            }
          }
        },
        {
          "output_type": "error",
          "ename": "ERROR",
          "evalue": "ignored",
          "traceback": [
            "Error in mime2repr[[mime]](plotobj, w, h): attempt to apply non-function\nTraceback:\n"
          ]
        },
        {
          "output_type": "display_data",
          "data": {},
          "metadata": {
            "image/svg": {
              "width": 720,
              "height": 480
            }
          }
        }
      ]
    },
    {
      "cell_type": "markdown",
      "source": [
        "### Question 3: [Popular Letters] What are the most popular letters in names?\n",
        "\n",
        "Have you ever wondered why some letters seem to be more prevalent in names than others? In this question, you will embark on a journey to uncover the reasons behind the popularity of specific letters in names. This investigation will lead you to interesting insights about how the popularity of letters in names has changed over time and the potential factors that have influenced these trends.\n",
        "\n",
        "1. How have the first and last letters in names changed over the years by sex?\n",
        "2. What are the trends in percentage of names with a given first or last letter across years.\n",
        "3. What are the most popular combinations of first and last letters?"
      ],
      "metadata": {
        "id": "4qbrjkCMu5Aq"
      }
    },
    {
      "cell_type": "markdown",
      "source": [
        "#### Transform\n",
        "\n",
        "Let us start by transforming the data and adding two columns, one for `first_letter` and one for `last_letter`. You can use the `str_sub()` function from the `stringr` package to do this."
      ],
      "metadata": {
        "id": "gS4smFGBu8Iv"
      }
    },
    {
      "cell_type": "code",
      "source": [
        "tbl_names = tbl_names |> \n",
        "  # Add NEW column first_letter by extracting `first_letter` from name using `str_sub`\n",
        "  mutate(first_letter = str_sub(name, 1, 1)) |>  \n",
        "  # Add NEW column last_letter by extracting `last_letter` from name using `str_sub`\n",
        "  mutate(last_letter = str_sub(name, -1, -1)) |> \n",
        "  # UPDATE column `last_letter` to upper case using `str_to_upper`\n",
        "  mutate(last_letter = str_to_upper(last_letter))\n",
        "\n",
        "tbl_names"
      ],
      "metadata": {
        "id": "6I2UeN5husmn",
        "outputId": "bc54fe17-907e-479c-8a0f-d7f222f23ecc",
        "colab": {
          "base_uri": "https://localhost:8080/",
          "height": 1000
        }
      },
      "execution_count": 11,
      "outputs": [
        {
          "output_type": "display_data",
          "data": {
            "text/html": [
              "<table class=\"dataframe\">\n",
              "<caption>A tibble: 2052781 × 6</caption>\n",
              "<thead>\n",
              "\t<tr><th scope=col>year</th><th scope=col>name</th><th scope=col>sex</th><th scope=col>nb_births</th><th scope=col>first_letter</th><th scope=col>last_letter</th></tr>\n",
              "\t<tr><th scope=col>&lt;dbl&gt;</th><th scope=col>&lt;chr&gt;</th><th scope=col>&lt;chr&gt;</th><th scope=col>&lt;dbl&gt;</th><th scope=col>&lt;chr&gt;</th><th scope=col>&lt;chr&gt;</th></tr>\n",
              "</thead>\n",
              "<tbody>\n",
              "\t<tr><td>1880</td><td>Mary     </td><td>F</td><td>7065</td><td>M</td><td>Y</td></tr>\n",
              "\t<tr><td>1880</td><td>Anna     </td><td>F</td><td>2604</td><td>A</td><td>A</td></tr>\n",
              "\t<tr><td>1880</td><td>Emma     </td><td>F</td><td>2003</td><td>E</td><td>A</td></tr>\n",
              "\t<tr><td>1880</td><td>Elizabeth</td><td>F</td><td>1939</td><td>E</td><td>H</td></tr>\n",
              "\t<tr><td>1880</td><td>Minnie   </td><td>F</td><td>1746</td><td>M</td><td>E</td></tr>\n",
              "\t<tr><td>1880</td><td>Margaret </td><td>F</td><td>1578</td><td>M</td><td>T</td></tr>\n",
              "\t<tr><td>1880</td><td>Ida      </td><td>F</td><td>1472</td><td>I</td><td>A</td></tr>\n",
              "\t<tr><td>1880</td><td>Alice    </td><td>F</td><td>1414</td><td>A</td><td>E</td></tr>\n",
              "\t<tr><td>1880</td><td>Bertha   </td><td>F</td><td>1320</td><td>B</td><td>A</td></tr>\n",
              "\t<tr><td>1880</td><td>Sarah    </td><td>F</td><td>1288</td><td>S</td><td>H</td></tr>\n",
              "\t<tr><td>1880</td><td>Annie    </td><td>F</td><td>1258</td><td>A</td><td>E</td></tr>\n",
              "\t<tr><td>1880</td><td>Clara    </td><td>F</td><td>1226</td><td>C</td><td>A</td></tr>\n",
              "\t<tr><td>1880</td><td>Ella     </td><td>F</td><td>1156</td><td>E</td><td>A</td></tr>\n",
              "\t<tr><td>1880</td><td>Florence </td><td>F</td><td>1063</td><td>F</td><td>E</td></tr>\n",
              "\t<tr><td>1880</td><td>Cora     </td><td>F</td><td>1045</td><td>C</td><td>A</td></tr>\n",
              "\t<tr><td>1880</td><td>Martha   </td><td>F</td><td>1040</td><td>M</td><td>A</td></tr>\n",
              "\t<tr><td>1880</td><td>Laura    </td><td>F</td><td>1012</td><td>L</td><td>A</td></tr>\n",
              "\t<tr><td>1880</td><td>Nellie   </td><td>F</td><td> 995</td><td>N</td><td>E</td></tr>\n",
              "\t<tr><td>1880</td><td>Grace    </td><td>F</td><td> 982</td><td>G</td><td>E</td></tr>\n",
              "\t<tr><td>1880</td><td>Carrie   </td><td>F</td><td> 949</td><td>C</td><td>E</td></tr>\n",
              "\t<tr><td>1880</td><td>Maude    </td><td>F</td><td> 859</td><td>M</td><td>E</td></tr>\n",
              "\t<tr><td>1880</td><td>Mabel    </td><td>F</td><td> 808</td><td>M</td><td>L</td></tr>\n",
              "\t<tr><td>1880</td><td>Bessie   </td><td>F</td><td> 796</td><td>B</td><td>E</td></tr>\n",
              "\t<tr><td>1880</td><td>Jennie   </td><td>F</td><td> 793</td><td>J</td><td>E</td></tr>\n",
              "\t<tr><td>1880</td><td>Gertrude </td><td>F</td><td> 787</td><td>G</td><td>E</td></tr>\n",
              "\t<tr><td>1880</td><td>Julia    </td><td>F</td><td> 783</td><td>J</td><td>A</td></tr>\n",
              "\t<tr><td>1880</td><td>Hattie   </td><td>F</td><td> 769</td><td>H</td><td>E</td></tr>\n",
              "\t<tr><td>1880</td><td>Edith    </td><td>F</td><td> 768</td><td>E</td><td>H</td></tr>\n",
              "\t<tr><td>1880</td><td>Mattie   </td><td>F</td><td> 704</td><td>M</td><td>E</td></tr>\n",
              "\t<tr><td>1880</td><td>Rose     </td><td>F</td><td> 700</td><td>R</td><td>E</td></tr>\n",
              "\t<tr><td>⋮</td><td>⋮</td><td>⋮</td><td>⋮</td><td>⋮</td><td>⋮</td></tr>\n",
              "\t<tr><td>2021</td><td>Zayre   </td><td>M</td><td>5</td><td>Z</td><td>E</td></tr>\n",
              "\t<tr><td>2021</td><td>Ze      </td><td>M</td><td>5</td><td>Z</td><td>E</td></tr>\n",
              "\t<tr><td>2021</td><td>Zecharia</td><td>M</td><td>5</td><td>Z</td><td>A</td></tr>\n",
              "\t<tr><td>2021</td><td>Zedd    </td><td>M</td><td>5</td><td>Z</td><td>D</td></tr>\n",
              "\t<tr><td>2021</td><td>Zedric  </td><td>M</td><td>5</td><td>Z</td><td>C</td></tr>\n",
              "\t<tr><td>2021</td><td>Zehaan  </td><td>M</td><td>5</td><td>Z</td><td>N</td></tr>\n",
              "\t<tr><td>2021</td><td>Zekhi   </td><td>M</td><td>5</td><td>Z</td><td>I</td></tr>\n",
              "\t<tr><td>2021</td><td>Zeki    </td><td>M</td><td>5</td><td>Z</td><td>I</td></tr>\n",
              "\t<tr><td>2021</td><td>Zeland  </td><td>M</td><td>5</td><td>Z</td><td>D</td></tr>\n",
              "\t<tr><td>2021</td><td>Zemariam</td><td>M</td><td>5</td><td>Z</td><td>M</td></tr>\n",
              "\t<tr><td>2021</td><td>Zennon  </td><td>M</td><td>5</td><td>Z</td><td>N</td></tr>\n",
              "\t<tr><td>2021</td><td>Zeon    </td><td>M</td><td>5</td><td>Z</td><td>N</td></tr>\n",
              "\t<tr><td>2021</td><td>Zero    </td><td>M</td><td>5</td><td>Z</td><td>O</td></tr>\n",
              "\t<tr><td>2021</td><td>Zeven   </td><td>M</td><td>5</td><td>Z</td><td>N</td></tr>\n",
              "\t<tr><td>2021</td><td>Zevon   </td><td>M</td><td>5</td><td>Z</td><td>N</td></tr>\n",
              "\t<tr><td>2021</td><td>Zevyn   </td><td>M</td><td>5</td><td>Z</td><td>N</td></tr>\n",
              "\t<tr><td>2021</td><td>Zeyd    </td><td>M</td><td>5</td><td>Z</td><td>D</td></tr>\n",
              "\t<tr><td>2021</td><td>Zhair   </td><td>M</td><td>5</td><td>Z</td><td>R</td></tr>\n",
              "\t<tr><td>2021</td><td>Zhayd   </td><td>M</td><td>5</td><td>Z</td><td>D</td></tr>\n",
              "\t<tr><td>2021</td><td>Zhen    </td><td>M</td><td>5</td><td>Z</td><td>N</td></tr>\n",
              "\t<tr><td>2021</td><td>Zhion   </td><td>M</td><td>5</td><td>Z</td><td>N</td></tr>\n",
              "\t<tr><td>2021</td><td>Zierre  </td><td>M</td><td>5</td><td>Z</td><td>E</td></tr>\n",
              "\t<tr><td>2021</td><td>Zinedine</td><td>M</td><td>5</td><td>Z</td><td>E</td></tr>\n",
              "\t<tr><td>2021</td><td>Zuhayr  </td><td>M</td><td>5</td><td>Z</td><td>R</td></tr>\n",
              "\t<tr><td>2021</td><td>Zvi     </td><td>M</td><td>5</td><td>Z</td><td>I</td></tr>\n",
              "\t<tr><td>2021</td><td>Zyeire  </td><td>M</td><td>5</td><td>Z</td><td>E</td></tr>\n",
              "\t<tr><td>2021</td><td>Zyel    </td><td>M</td><td>5</td><td>Z</td><td>L</td></tr>\n",
              "\t<tr><td>2021</td><td>Zyian   </td><td>M</td><td>5</td><td>Z</td><td>N</td></tr>\n",
              "\t<tr><td>2021</td><td>Zylar   </td><td>M</td><td>5</td><td>Z</td><td>R</td></tr>\n",
              "\t<tr><td>2021</td><td>Zyn     </td><td>M</td><td>5</td><td>Z</td><td>N</td></tr>\n",
              "</tbody>\n",
              "</table>\n"
            ],
            "text/markdown": "\nA tibble: 2052781 × 6\n\n| year &lt;dbl&gt; | name &lt;chr&gt; | sex &lt;chr&gt; | nb_births &lt;dbl&gt; | first_letter &lt;chr&gt; | last_letter &lt;chr&gt; |\n|---|---|---|---|---|---|\n| 1880 | Mary      | F | 7065 | M | Y |\n| 1880 | Anna      | F | 2604 | A | A |\n| 1880 | Emma      | F | 2003 | E | A |\n| 1880 | Elizabeth | F | 1939 | E | H |\n| 1880 | Minnie    | F | 1746 | M | E |\n| 1880 | Margaret  | F | 1578 | M | T |\n| 1880 | Ida       | F | 1472 | I | A |\n| 1880 | Alice     | F | 1414 | A | E |\n| 1880 | Bertha    | F | 1320 | B | A |\n| 1880 | Sarah     | F | 1288 | S | H |\n| 1880 | Annie     | F | 1258 | A | E |\n| 1880 | Clara     | F | 1226 | C | A |\n| 1880 | Ella      | F | 1156 | E | A |\n| 1880 | Florence  | F | 1063 | F | E |\n| 1880 | Cora      | F | 1045 | C | A |\n| 1880 | Martha    | F | 1040 | M | A |\n| 1880 | Laura     | F | 1012 | L | A |\n| 1880 | Nellie    | F |  995 | N | E |\n| 1880 | Grace     | F |  982 | G | E |\n| 1880 | Carrie    | F |  949 | C | E |\n| 1880 | Maude     | F |  859 | M | E |\n| 1880 | Mabel     | F |  808 | M | L |\n| 1880 | Bessie    | F |  796 | B | E |\n| 1880 | Jennie    | F |  793 | J | E |\n| 1880 | Gertrude  | F |  787 | G | E |\n| 1880 | Julia     | F |  783 | J | A |\n| 1880 | Hattie    | F |  769 | H | E |\n| 1880 | Edith     | F |  768 | E | H |\n| 1880 | Mattie    | F |  704 | M | E |\n| 1880 | Rose      | F |  700 | R | E |\n| ⋮ | ⋮ | ⋮ | ⋮ | ⋮ | ⋮ |\n| 2021 | Zayre    | M | 5 | Z | E |\n| 2021 | Ze       | M | 5 | Z | E |\n| 2021 | Zecharia | M | 5 | Z | A |\n| 2021 | Zedd     | M | 5 | Z | D |\n| 2021 | Zedric   | M | 5 | Z | C |\n| 2021 | Zehaan   | M | 5 | Z | N |\n| 2021 | Zekhi    | M | 5 | Z | I |\n| 2021 | Zeki     | M | 5 | Z | I |\n| 2021 | Zeland   | M | 5 | Z | D |\n| 2021 | Zemariam | M | 5 | Z | M |\n| 2021 | Zennon   | M | 5 | Z | N |\n| 2021 | Zeon     | M | 5 | Z | N |\n| 2021 | Zero     | M | 5 | Z | O |\n| 2021 | Zeven    | M | 5 | Z | N |\n| 2021 | Zevon    | M | 5 | Z | N |\n| 2021 | Zevyn    | M | 5 | Z | N |\n| 2021 | Zeyd     | M | 5 | Z | D |\n| 2021 | Zhair    | M | 5 | Z | R |\n| 2021 | Zhayd    | M | 5 | Z | D |\n| 2021 | Zhen     | M | 5 | Z | N |\n| 2021 | Zhion    | M | 5 | Z | N |\n| 2021 | Zierre   | M | 5 | Z | E |\n| 2021 | Zinedine | M | 5 | Z | E |\n| 2021 | Zuhayr   | M | 5 | Z | R |\n| 2021 | Zvi      | M | 5 | Z | I |\n| 2021 | Zyeire   | M | 5 | Z | E |\n| 2021 | Zyel     | M | 5 | Z | L |\n| 2021 | Zyian    | M | 5 | Z | N |\n| 2021 | Zylar    | M | 5 | Z | R |\n| 2021 | Zyn      | M | 5 | Z | N |\n\n",
            "text/latex": "A tibble: 2052781 × 6\n\\begin{tabular}{llllll}\n year & name & sex & nb\\_births & first\\_letter & last\\_letter\\\\\n <dbl> & <chr> & <chr> & <dbl> & <chr> & <chr>\\\\\n\\hline\n\t 1880 & Mary      & F & 7065 & M & Y\\\\\n\t 1880 & Anna      & F & 2604 & A & A\\\\\n\t 1880 & Emma      & F & 2003 & E & A\\\\\n\t 1880 & Elizabeth & F & 1939 & E & H\\\\\n\t 1880 & Minnie    & F & 1746 & M & E\\\\\n\t 1880 & Margaret  & F & 1578 & M & T\\\\\n\t 1880 & Ida       & F & 1472 & I & A\\\\\n\t 1880 & Alice     & F & 1414 & A & E\\\\\n\t 1880 & Bertha    & F & 1320 & B & A\\\\\n\t 1880 & Sarah     & F & 1288 & S & H\\\\\n\t 1880 & Annie     & F & 1258 & A & E\\\\\n\t 1880 & Clara     & F & 1226 & C & A\\\\\n\t 1880 & Ella      & F & 1156 & E & A\\\\\n\t 1880 & Florence  & F & 1063 & F & E\\\\\n\t 1880 & Cora      & F & 1045 & C & A\\\\\n\t 1880 & Martha    & F & 1040 & M & A\\\\\n\t 1880 & Laura     & F & 1012 & L & A\\\\\n\t 1880 & Nellie    & F &  995 & N & E\\\\\n\t 1880 & Grace     & F &  982 & G & E\\\\\n\t 1880 & Carrie    & F &  949 & C & E\\\\\n\t 1880 & Maude     & F &  859 & M & E\\\\\n\t 1880 & Mabel     & F &  808 & M & L\\\\\n\t 1880 & Bessie    & F &  796 & B & E\\\\\n\t 1880 & Jennie    & F &  793 & J & E\\\\\n\t 1880 & Gertrude  & F &  787 & G & E\\\\\n\t 1880 & Julia     & F &  783 & J & A\\\\\n\t 1880 & Hattie    & F &  769 & H & E\\\\\n\t 1880 & Edith     & F &  768 & E & H\\\\\n\t 1880 & Mattie    & F &  704 & M & E\\\\\n\t 1880 & Rose      & F &  700 & R & E\\\\\n\t ⋮ & ⋮ & ⋮ & ⋮ & ⋮ & ⋮\\\\\n\t 2021 & Zayre    & M & 5 & Z & E\\\\\n\t 2021 & Ze       & M & 5 & Z & E\\\\\n\t 2021 & Zecharia & M & 5 & Z & A\\\\\n\t 2021 & Zedd     & M & 5 & Z & D\\\\\n\t 2021 & Zedric   & M & 5 & Z & C\\\\\n\t 2021 & Zehaan   & M & 5 & Z & N\\\\\n\t 2021 & Zekhi    & M & 5 & Z & I\\\\\n\t 2021 & Zeki     & M & 5 & Z & I\\\\\n\t 2021 & Zeland   & M & 5 & Z & D\\\\\n\t 2021 & Zemariam & M & 5 & Z & M\\\\\n\t 2021 & Zennon   & M & 5 & Z & N\\\\\n\t 2021 & Zeon     & M & 5 & Z & N\\\\\n\t 2021 & Zero     & M & 5 & Z & O\\\\\n\t 2021 & Zeven    & M & 5 & Z & N\\\\\n\t 2021 & Zevon    & M & 5 & Z & N\\\\\n\t 2021 & Zevyn    & M & 5 & Z & N\\\\\n\t 2021 & Zeyd     & M & 5 & Z & D\\\\\n\t 2021 & Zhair    & M & 5 & Z & R\\\\\n\t 2021 & Zhayd    & M & 5 & Z & D\\\\\n\t 2021 & Zhen     & M & 5 & Z & N\\\\\n\t 2021 & Zhion    & M & 5 & Z & N\\\\\n\t 2021 & Zierre   & M & 5 & Z & E\\\\\n\t 2021 & Zinedine & M & 5 & Z & E\\\\\n\t 2021 & Zuhayr   & M & 5 & Z & R\\\\\n\t 2021 & Zvi      & M & 5 & Z & I\\\\\n\t 2021 & Zyeire   & M & 5 & Z & E\\\\\n\t 2021 & Zyel     & M & 5 & Z & L\\\\\n\t 2021 & Zyian    & M & 5 & Z & N\\\\\n\t 2021 & Zylar    & M & 5 & Z & R\\\\\n\t 2021 & Zyn      & M & 5 & Z & N\\\\\n\\end{tabular}\n",
            "text/plain": [
              "        year name      sex nb_births first_letter last_letter\n",
              "1       1880 Mary      F   7065      M            Y          \n",
              "2       1880 Anna      F   2604      A            A          \n",
              "3       1880 Emma      F   2003      E            A          \n",
              "4       1880 Elizabeth F   1939      E            H          \n",
              "5       1880 Minnie    F   1746      M            E          \n",
              "6       1880 Margaret  F   1578      M            T          \n",
              "7       1880 Ida       F   1472      I            A          \n",
              "8       1880 Alice     F   1414      A            E          \n",
              "9       1880 Bertha    F   1320      B            A          \n",
              "10      1880 Sarah     F   1288      S            H          \n",
              "11      1880 Annie     F   1258      A            E          \n",
              "12      1880 Clara     F   1226      C            A          \n",
              "13      1880 Ella      F   1156      E            A          \n",
              "14      1880 Florence  F   1063      F            E          \n",
              "15      1880 Cora      F   1045      C            A          \n",
              "16      1880 Martha    F   1040      M            A          \n",
              "17      1880 Laura     F   1012      L            A          \n",
              "18      1880 Nellie    F    995      N            E          \n",
              "19      1880 Grace     F    982      G            E          \n",
              "20      1880 Carrie    F    949      C            E          \n",
              "21      1880 Maude     F    859      M            E          \n",
              "22      1880 Mabel     F    808      M            L          \n",
              "23      1880 Bessie    F    796      B            E          \n",
              "24      1880 Jennie    F    793      J            E          \n",
              "25      1880 Gertrude  F    787      G            E          \n",
              "26      1880 Julia     F    783      J            A          \n",
              "27      1880 Hattie    F    769      H            E          \n",
              "28      1880 Edith     F    768      E            H          \n",
              "29      1880 Mattie    F    704      M            E          \n",
              "30      1880 Rose      F    700      R            E          \n",
              "⋮       ⋮    ⋮         ⋮   ⋮         ⋮            ⋮          \n",
              "2052752 2021 Zayre     M   5         Z            E          \n",
              "2052753 2021 Ze        M   5         Z            E          \n",
              "2052754 2021 Zecharia  M   5         Z            A          \n",
              "2052755 2021 Zedd      M   5         Z            D          \n",
              "2052756 2021 Zedric    M   5         Z            C          \n",
              "2052757 2021 Zehaan    M   5         Z            N          \n",
              "2052758 2021 Zekhi     M   5         Z            I          \n",
              "2052759 2021 Zeki      M   5         Z            I          \n",
              "2052760 2021 Zeland    M   5         Z            D          \n",
              "2052761 2021 Zemariam  M   5         Z            M          \n",
              "2052762 2021 Zennon    M   5         Z            N          \n",
              "2052763 2021 Zeon      M   5         Z            N          \n",
              "2052764 2021 Zero      M   5         Z            O          \n",
              "2052765 2021 Zeven     M   5         Z            N          \n",
              "2052766 2021 Zevon     M   5         Z            N          \n",
              "2052767 2021 Zevyn     M   5         Z            N          \n",
              "2052768 2021 Zeyd      M   5         Z            D          \n",
              "2052769 2021 Zhair     M   5         Z            R          \n",
              "2052770 2021 Zhayd     M   5         Z            D          \n",
              "2052771 2021 Zhen      M   5         Z            N          \n",
              "2052772 2021 Zhion     M   5         Z            N          \n",
              "2052773 2021 Zierre    M   5         Z            E          \n",
              "2052774 2021 Zinedine  M   5         Z            E          \n",
              "2052775 2021 Zuhayr    M   5         Z            R          \n",
              "2052776 2021 Zvi       M   5         Z            I          \n",
              "2052777 2021 Zyeire    M   5         Z            E          \n",
              "2052778 2021 Zyel      M   5         Z            L          \n",
              "2052779 2021 Zyian     M   5         Z            N          \n",
              "2052780 2021 Zylar     M   5         Z            R          \n",
              "2052781 2021 Zyn       M   5         Z            N          "
            ]
          },
          "metadata": {}
        }
      ]
    },
    {
      "cell_type": "markdown",
      "source": [
        "Begin by computing the distribution of births across year and sex by first letter of a name."
      ],
      "metadata": {
        "id": "jv0d7sTxvEA3"
      }
    },
    {
      "cell_type": "code",
      "source": [
        "tbl_names_by_letter = tbl_names |> \n",
        "  # Group by year, sex and first_letter\n",
        "  group_by(year, sex, first_letter) |> \n",
        "  # Summarize total number of births, drop the grouping\n",
        "  summarise(nb_births = sum(nb_births), .groups = \"drop\") |> \n",
        "  # Group by year and sex\n",
        "  group_by(year, sex) |> \n",
        "  # Add NEW column pct_births by dividing nb_births by sum(nb_births)\n",
        "  mutate(pct_births = nb_births / sum(nb_births))\n",
        "  \n",
        "tbl_names_by_letter"
      ],
      "metadata": {
        "id": "tg-vQZI3u-EM",
        "outputId": "806eaf8a-8c71-4612-d3aa-0b1c72a12d67",
        "colab": {
          "base_uri": "https://localhost:8080/",
          "height": 1000
        }
      },
      "execution_count": 12,
      "outputs": [
        {
          "output_type": "display_data",
          "data": {
            "text/html": [
              "<table class=\"dataframe\">\n",
              "<caption>A grouped_df: 7313 × 5</caption>\n",
              "<thead>\n",
              "\t<tr><th scope=col>year</th><th scope=col>sex</th><th scope=col>first_letter</th><th scope=col>nb_births</th><th scope=col>pct_births</th></tr>\n",
              "\t<tr><th scope=col>&lt;dbl&gt;</th><th scope=col>&lt;chr&gt;</th><th scope=col>&lt;chr&gt;</th><th scope=col>&lt;dbl&gt;</th><th scope=col>&lt;dbl&gt;</th></tr>\n",
              "</thead>\n",
              "<tbody>\n",
              "\t<tr><td>1880</td><td>F</td><td>A</td><td> 9334</td><td>1.025782e-01</td></tr>\n",
              "\t<tr><td>1880</td><td>F</td><td>B</td><td> 3876</td><td>4.259622e-02</td></tr>\n",
              "\t<tr><td>1880</td><td>F</td><td>C</td><td> 5868</td><td>6.448777e-02</td></tr>\n",
              "\t<tr><td>1880</td><td>F</td><td>D</td><td> 2218</td><td>2.437523e-02</td></tr>\n",
              "\t<tr><td>1880</td><td>F</td><td>E</td><td>11444</td><td>1.257665e-01</td></tr>\n",
              "\t<tr><td>1880</td><td>F</td><td>F</td><td> 2957</td><td>3.249665e-02</td></tr>\n",
              "\t<tr><td>1880</td><td>F</td><td>G</td><td> 2463</td><td>2.706772e-02</td></tr>\n",
              "\t<tr><td>1880</td><td>F</td><td>H</td><td> 2743</td><td>3.014484e-02</td></tr>\n",
              "\t<tr><td>1880</td><td>F</td><td>I</td><td> 2480</td><td>2.725454e-02</td></tr>\n",
              "\t<tr><td>1880</td><td>F</td><td>J</td><td> 3800</td><td>4.176100e-02</td></tr>\n",
              "\t<tr><td>1880</td><td>F</td><td>K</td><td> 1514</td><td>1.663846e-02</td></tr>\n",
              "\t<tr><td>1880</td><td>F</td><td>L</td><td> 8713</td><td>9.575357e-02</td></tr>\n",
              "\t<tr><td>1880</td><td>F</td><td>M</td><td>19780</td><td>2.173770e-01</td></tr>\n",
              "\t<tr><td>1880</td><td>F</td><td>N</td><td> 3025</td><td>3.324395e-02</td></tr>\n",
              "\t<tr><td>1880</td><td>F</td><td>O</td><td>  968</td><td>1.063806e-02</td></tr>\n",
              "\t<tr><td>1880</td><td>F</td><td>P</td><td> 1064</td><td>1.169308e-02</td></tr>\n",
              "\t<tr><td>1880</td><td>F</td><td>Q</td><td>   28</td><td>3.077126e-04</td></tr>\n",
              "\t<tr><td>1880</td><td>F</td><td>R</td><td> 2648</td><td>2.910082e-02</td></tr>\n",
              "\t<tr><td>1880</td><td>F</td><td>S</td><td> 3958</td><td>4.349737e-02</td></tr>\n",
              "\t<tr><td>1880</td><td>F</td><td>T</td><td>  503</td><td>5.527837e-03</td></tr>\n",
              "\t<tr><td>1880</td><td>F</td><td>U</td><td>   15</td><td>1.648460e-04</td></tr>\n",
              "\t<tr><td>1880</td><td>F</td><td>V</td><td>  930</td><td>1.022045e-02</td></tr>\n",
              "\t<tr><td>1880</td><td>F</td><td>W</td><td>  467</td><td>5.132207e-03</td></tr>\n",
              "\t<tr><td>1880</td><td>F</td><td>Y</td><td>    7</td><td>7.692815e-05</td></tr>\n",
              "\t<tr><td>1880</td><td>F</td><td>Z</td><td>  191</td><td>2.099039e-03</td></tr>\n",
              "\t<tr><td>1880</td><td>M</td><td>A</td><td> 7406</td><td>6.702869e-02</td></tr>\n",
              "\t<tr><td>1880</td><td>M</td><td>B</td><td> 2115</td><td>1.914200e-02</td></tr>\n",
              "\t<tr><td>1880</td><td>M</td><td>C</td><td> 9949</td><td>9.004435e-02</td></tr>\n",
              "\t<tr><td>1880</td><td>M</td><td>D</td><td> 2488</td><td>2.251787e-02</td></tr>\n",
              "\t<tr><td>1880</td><td>M</td><td>E</td><td> 6894</td><td>6.239479e-02</td></tr>\n",
              "\t<tr><td>⋮</td><td>⋮</td><td>⋮</td><td>⋮</td><td>⋮</td></tr>\n",
              "\t<tr><td>2021</td><td>F</td><td>W</td><td> 14755</td><td>0.009068292</td></tr>\n",
              "\t<tr><td>2021</td><td>F</td><td>X</td><td>  4511</td><td>0.002772421</td></tr>\n",
              "\t<tr><td>2021</td><td>F</td><td>Y</td><td>  7663</td><td>0.004709612</td></tr>\n",
              "\t<tr><td>2021</td><td>F</td><td>Z</td><td> 29163</td><td>0.017923321</td></tr>\n",
              "\t<tr><td>2021</td><td>M</td><td>A</td><td>178603</td><td>0.102984125</td></tr>\n",
              "\t<tr><td>2021</td><td>M</td><td>B</td><td> 86616</td><td>0.049943579</td></tr>\n",
              "\t<tr><td>2021</td><td>M</td><td>C</td><td>123065</td><td>0.070960406</td></tr>\n",
              "\t<tr><td>2021</td><td>M</td><td>D</td><td> 85049</td><td>0.049040032</td></tr>\n",
              "\t<tr><td>2021</td><td>M</td><td>E</td><td>108760</td><td>0.062712012</td></tr>\n",
              "\t<tr><td>2021</td><td>M</td><td>F</td><td> 20545</td><td>0.011846435</td></tr>\n",
              "\t<tr><td>2021</td><td>M</td><td>G</td><td> 53591</td><td>0.030901061</td></tr>\n",
              "\t<tr><td>2021</td><td>M</td><td>H</td><td> 50065</td><td>0.028867937</td></tr>\n",
              "\t<tr><td>2021</td><td>M</td><td>I</td><td> 31565</td><td>0.018200668</td></tr>\n",
              "\t<tr><td>2021</td><td>M</td><td>J</td><td>202846</td><td>0.116962861</td></tr>\n",
              "\t<tr><td>2021</td><td>M</td><td>K</td><td> 93478</td><td>0.053900271</td></tr>\n",
              "\t<tr><td>2021</td><td>M</td><td>L</td><td>133493</td><td>0.076973286</td></tr>\n",
              "\t<tr><td>2021</td><td>M</td><td>M</td><td>126777</td><td>0.073100779</td></tr>\n",
              "\t<tr><td>2021</td><td>M</td><td>N</td><td> 57482</td><td>0.033144648</td></tr>\n",
              "\t<tr><td>2021</td><td>M</td><td>O</td><td> 38869</td><td>0.022412221</td></tr>\n",
              "\t<tr><td>2021</td><td>M</td><td>P</td><td> 23784</td><td>0.013714072</td></tr>\n",
              "\t<tr><td>2021</td><td>M</td><td>Q</td><td>  3157</td><td>0.001820355</td></tr>\n",
              "\t<tr><td>2021</td><td>M</td><td>R</td><td> 81843</td><td>0.047191423</td></tr>\n",
              "\t<tr><td>2021</td><td>M</td><td>S</td><td> 70301</td><td>0.040536200</td></tr>\n",
              "\t<tr><td>2021</td><td>M</td><td>T</td><td> 59261</td><td>0.034170435</td></tr>\n",
              "\t<tr><td>2021</td><td>M</td><td>U</td><td>  2523</td><td>0.001454785</td></tr>\n",
              "\t<tr><td>2021</td><td>M</td><td>V</td><td> 11066</td><td>0.006380757</td></tr>\n",
              "\t<tr><td>2021</td><td>M</td><td>W</td><td> 49106</td><td>0.028314969</td></tr>\n",
              "\t<tr><td>2021</td><td>M</td><td>X</td><td>  7208</td><td>0.004156199</td></tr>\n",
              "\t<tr><td>2021</td><td>M</td><td>Y</td><td>  8288</td><td>0.004778937</td></tr>\n",
              "\t<tr><td>2021</td><td>M</td><td>Z</td><td> 26936</td><td>0.015531544</td></tr>\n",
              "</tbody>\n",
              "</table>\n"
            ],
            "text/markdown": "\nA grouped_df: 7313 × 5\n\n| year &lt;dbl&gt; | sex &lt;chr&gt; | first_letter &lt;chr&gt; | nb_births &lt;dbl&gt; | pct_births &lt;dbl&gt; |\n|---|---|---|---|---|\n| 1880 | F | A |  9334 | 1.025782e-01 |\n| 1880 | F | B |  3876 | 4.259622e-02 |\n| 1880 | F | C |  5868 | 6.448777e-02 |\n| 1880 | F | D |  2218 | 2.437523e-02 |\n| 1880 | F | E | 11444 | 1.257665e-01 |\n| 1880 | F | F |  2957 | 3.249665e-02 |\n| 1880 | F | G |  2463 | 2.706772e-02 |\n| 1880 | F | H |  2743 | 3.014484e-02 |\n| 1880 | F | I |  2480 | 2.725454e-02 |\n| 1880 | F | J |  3800 | 4.176100e-02 |\n| 1880 | F | K |  1514 | 1.663846e-02 |\n| 1880 | F | L |  8713 | 9.575357e-02 |\n| 1880 | F | M | 19780 | 2.173770e-01 |\n| 1880 | F | N |  3025 | 3.324395e-02 |\n| 1880 | F | O |   968 | 1.063806e-02 |\n| 1880 | F | P |  1064 | 1.169308e-02 |\n| 1880 | F | Q |    28 | 3.077126e-04 |\n| 1880 | F | R |  2648 | 2.910082e-02 |\n| 1880 | F | S |  3958 | 4.349737e-02 |\n| 1880 | F | T |   503 | 5.527837e-03 |\n| 1880 | F | U |    15 | 1.648460e-04 |\n| 1880 | F | V |   930 | 1.022045e-02 |\n| 1880 | F | W |   467 | 5.132207e-03 |\n| 1880 | F | Y |     7 | 7.692815e-05 |\n| 1880 | F | Z |   191 | 2.099039e-03 |\n| 1880 | M | A |  7406 | 6.702869e-02 |\n| 1880 | M | B |  2115 | 1.914200e-02 |\n| 1880 | M | C |  9949 | 9.004435e-02 |\n| 1880 | M | D |  2488 | 2.251787e-02 |\n| 1880 | M | E |  6894 | 6.239479e-02 |\n| ⋮ | ⋮ | ⋮ | ⋮ | ⋮ |\n| 2021 | F | W |  14755 | 0.009068292 |\n| 2021 | F | X |   4511 | 0.002772421 |\n| 2021 | F | Y |   7663 | 0.004709612 |\n| 2021 | F | Z |  29163 | 0.017923321 |\n| 2021 | M | A | 178603 | 0.102984125 |\n| 2021 | M | B |  86616 | 0.049943579 |\n| 2021 | M | C | 123065 | 0.070960406 |\n| 2021 | M | D |  85049 | 0.049040032 |\n| 2021 | M | E | 108760 | 0.062712012 |\n| 2021 | M | F |  20545 | 0.011846435 |\n| 2021 | M | G |  53591 | 0.030901061 |\n| 2021 | M | H |  50065 | 0.028867937 |\n| 2021 | M | I |  31565 | 0.018200668 |\n| 2021 | M | J | 202846 | 0.116962861 |\n| 2021 | M | K |  93478 | 0.053900271 |\n| 2021 | M | L | 133493 | 0.076973286 |\n| 2021 | M | M | 126777 | 0.073100779 |\n| 2021 | M | N |  57482 | 0.033144648 |\n| 2021 | M | O |  38869 | 0.022412221 |\n| 2021 | M | P |  23784 | 0.013714072 |\n| 2021 | M | Q |   3157 | 0.001820355 |\n| 2021 | M | R |  81843 | 0.047191423 |\n| 2021 | M | S |  70301 | 0.040536200 |\n| 2021 | M | T |  59261 | 0.034170435 |\n| 2021 | M | U |   2523 | 0.001454785 |\n| 2021 | M | V |  11066 | 0.006380757 |\n| 2021 | M | W |  49106 | 0.028314969 |\n| 2021 | M | X |   7208 | 0.004156199 |\n| 2021 | M | Y |   8288 | 0.004778937 |\n| 2021 | M | Z |  26936 | 0.015531544 |\n\n",
            "text/latex": "A grouped\\_df: 7313 × 5\n\\begin{tabular}{lllll}\n year & sex & first\\_letter & nb\\_births & pct\\_births\\\\\n <dbl> & <chr> & <chr> & <dbl> & <dbl>\\\\\n\\hline\n\t 1880 & F & A &  9334 & 1.025782e-01\\\\\n\t 1880 & F & B &  3876 & 4.259622e-02\\\\\n\t 1880 & F & C &  5868 & 6.448777e-02\\\\\n\t 1880 & F & D &  2218 & 2.437523e-02\\\\\n\t 1880 & F & E & 11444 & 1.257665e-01\\\\\n\t 1880 & F & F &  2957 & 3.249665e-02\\\\\n\t 1880 & F & G &  2463 & 2.706772e-02\\\\\n\t 1880 & F & H &  2743 & 3.014484e-02\\\\\n\t 1880 & F & I &  2480 & 2.725454e-02\\\\\n\t 1880 & F & J &  3800 & 4.176100e-02\\\\\n\t 1880 & F & K &  1514 & 1.663846e-02\\\\\n\t 1880 & F & L &  8713 & 9.575357e-02\\\\\n\t 1880 & F & M & 19780 & 2.173770e-01\\\\\n\t 1880 & F & N &  3025 & 3.324395e-02\\\\\n\t 1880 & F & O &   968 & 1.063806e-02\\\\\n\t 1880 & F & P &  1064 & 1.169308e-02\\\\\n\t 1880 & F & Q &    28 & 3.077126e-04\\\\\n\t 1880 & F & R &  2648 & 2.910082e-02\\\\\n\t 1880 & F & S &  3958 & 4.349737e-02\\\\\n\t 1880 & F & T &   503 & 5.527837e-03\\\\\n\t 1880 & F & U &    15 & 1.648460e-04\\\\\n\t 1880 & F & V &   930 & 1.022045e-02\\\\\n\t 1880 & F & W &   467 & 5.132207e-03\\\\\n\t 1880 & F & Y &     7 & 7.692815e-05\\\\\n\t 1880 & F & Z &   191 & 2.099039e-03\\\\\n\t 1880 & M & A &  7406 & 6.702869e-02\\\\\n\t 1880 & M & B &  2115 & 1.914200e-02\\\\\n\t 1880 & M & C &  9949 & 9.004435e-02\\\\\n\t 1880 & M & D &  2488 & 2.251787e-02\\\\\n\t 1880 & M & E &  6894 & 6.239479e-02\\\\\n\t ⋮ & ⋮ & ⋮ & ⋮ & ⋮\\\\\n\t 2021 & F & W &  14755 & 0.009068292\\\\\n\t 2021 & F & X &   4511 & 0.002772421\\\\\n\t 2021 & F & Y &   7663 & 0.004709612\\\\\n\t 2021 & F & Z &  29163 & 0.017923321\\\\\n\t 2021 & M & A & 178603 & 0.102984125\\\\\n\t 2021 & M & B &  86616 & 0.049943579\\\\\n\t 2021 & M & C & 123065 & 0.070960406\\\\\n\t 2021 & M & D &  85049 & 0.049040032\\\\\n\t 2021 & M & E & 108760 & 0.062712012\\\\\n\t 2021 & M & F &  20545 & 0.011846435\\\\\n\t 2021 & M & G &  53591 & 0.030901061\\\\\n\t 2021 & M & H &  50065 & 0.028867937\\\\\n\t 2021 & M & I &  31565 & 0.018200668\\\\\n\t 2021 & M & J & 202846 & 0.116962861\\\\\n\t 2021 & M & K &  93478 & 0.053900271\\\\\n\t 2021 & M & L & 133493 & 0.076973286\\\\\n\t 2021 & M & M & 126777 & 0.073100779\\\\\n\t 2021 & M & N &  57482 & 0.033144648\\\\\n\t 2021 & M & O &  38869 & 0.022412221\\\\\n\t 2021 & M & P &  23784 & 0.013714072\\\\\n\t 2021 & M & Q &   3157 & 0.001820355\\\\\n\t 2021 & M & R &  81843 & 0.047191423\\\\\n\t 2021 & M & S &  70301 & 0.040536200\\\\\n\t 2021 & M & T &  59261 & 0.034170435\\\\\n\t 2021 & M & U &   2523 & 0.001454785\\\\\n\t 2021 & M & V &  11066 & 0.006380757\\\\\n\t 2021 & M & W &  49106 & 0.028314969\\\\\n\t 2021 & M & X &   7208 & 0.004156199\\\\\n\t 2021 & M & Y &   8288 & 0.004778937\\\\\n\t 2021 & M & Z &  26936 & 0.015531544\\\\\n\\end{tabular}\n",
            "text/plain": [
              "     year sex first_letter nb_births pct_births  \n",
              "1    1880 F   A             9334     1.025782e-01\n",
              "2    1880 F   B             3876     4.259622e-02\n",
              "3    1880 F   C             5868     6.448777e-02\n",
              "4    1880 F   D             2218     2.437523e-02\n",
              "5    1880 F   E            11444     1.257665e-01\n",
              "6    1880 F   F             2957     3.249665e-02\n",
              "7    1880 F   G             2463     2.706772e-02\n",
              "8    1880 F   H             2743     3.014484e-02\n",
              "9    1880 F   I             2480     2.725454e-02\n",
              "10   1880 F   J             3800     4.176100e-02\n",
              "11   1880 F   K             1514     1.663846e-02\n",
              "12   1880 F   L             8713     9.575357e-02\n",
              "13   1880 F   M            19780     2.173770e-01\n",
              "14   1880 F   N             3025     3.324395e-02\n",
              "15   1880 F   O              968     1.063806e-02\n",
              "16   1880 F   P             1064     1.169308e-02\n",
              "17   1880 F   Q               28     3.077126e-04\n",
              "18   1880 F   R             2648     2.910082e-02\n",
              "19   1880 F   S             3958     4.349737e-02\n",
              "20   1880 F   T              503     5.527837e-03\n",
              "21   1880 F   U               15     1.648460e-04\n",
              "22   1880 F   V              930     1.022045e-02\n",
              "23   1880 F   W              467     5.132207e-03\n",
              "24   1880 F   Y                7     7.692815e-05\n",
              "25   1880 F   Z              191     2.099039e-03\n",
              "26   1880 M   A             7406     6.702869e-02\n",
              "27   1880 M   B             2115     1.914200e-02\n",
              "28   1880 M   C             9949     9.004435e-02\n",
              "29   1880 M   D             2488     2.251787e-02\n",
              "30   1880 M   E             6894     6.239479e-02\n",
              "⋮    ⋮    ⋮   ⋮            ⋮         ⋮           \n",
              "7284 2021 F   W             14755    0.009068292 \n",
              "7285 2021 F   X              4511    0.002772421 \n",
              "7286 2021 F   Y              7663    0.004709612 \n",
              "7287 2021 F   Z             29163    0.017923321 \n",
              "7288 2021 M   A            178603    0.102984125 \n",
              "7289 2021 M   B             86616    0.049943579 \n",
              "7290 2021 M   C            123065    0.070960406 \n",
              "7291 2021 M   D             85049    0.049040032 \n",
              "7292 2021 M   E            108760    0.062712012 \n",
              "7293 2021 M   F             20545    0.011846435 \n",
              "7294 2021 M   G             53591    0.030901061 \n",
              "7295 2021 M   H             50065    0.028867937 \n",
              "7296 2021 M   I             31565    0.018200668 \n",
              "7297 2021 M   J            202846    0.116962861 \n",
              "7298 2021 M   K             93478    0.053900271 \n",
              "7299 2021 M   L            133493    0.076973286 \n",
              "7300 2021 M   M            126777    0.073100779 \n",
              "7301 2021 M   N             57482    0.033144648 \n",
              "7302 2021 M   O             38869    0.022412221 \n",
              "7303 2021 M   P             23784    0.013714072 \n",
              "7304 2021 M   Q              3157    0.001820355 \n",
              "7305 2021 M   R             81843    0.047191423 \n",
              "7306 2021 M   S             70301    0.040536200 \n",
              "7307 2021 M   T             59261    0.034170435 \n",
              "7308 2021 M   U              2523    0.001454785 \n",
              "7309 2021 M   V             11066    0.006380757 \n",
              "7310 2021 M   W             49106    0.028314969 \n",
              "7311 2021 M   X              7208    0.004156199 \n",
              "7312 2021 M   Y              8288    0.004778937 \n",
              "7313 2021 M   Z             26936    0.015531544 "
            ]
          },
          "metadata": {}
        }
      ]
    },
    {
      "cell_type": "markdown",
      "source": [
        "#### Visualize\n",
        "\n",
        "Visualize the distribution of births by first letter for the year 2020, faceted by sex."
      ],
      "metadata": {
        "id": "ze4FjOK8vJyF"
      }
    },
    {
      "cell_type": "code",
      "source": [
        "tbl_names_by_letter |> \n",
        "  # Filter for the year 2020\n",
        "   filter(year == 2020) |>\n",
        "  # Initialize a ggplot of pct_births vs. first_letter\n",
        "   ggplot(aes(x = first_letter, y = pct_births)) +\n",
        "  # Add a column layer using `geom_col()`\n",
        "   geom_col() +\n",
        "  # Facet wrap plot by sex\n",
        "   facet_wrap(~ sex, scales = \"free_y\") +\n",
        "  # Add labels (title, subtitle, x, y)\n",
        "   labs(\n",
        "         title = 'title',\n",
        "         subtitle = 'subtile',\n",
        "         caption = 'caption',\n",
        "         x = 'first_letter',\n",
        "         y = 'pct_births'\n",
        "     ) +\n",
        "  # Fix scales of y axis\n",
        "  scale_y_continuous(\n",
        "    expand = c(0, 0),\n",
        "    labels = scales::percent_format(accuracy = 1L)\n",
        "  ) +\n",
        "  # Update plotting theme\n",
        "  theme(\n",
        "    plot.title.position = \"plot\",\n",
        "    axis.ticks.x = element_blank(),\n",
        "    panel.grid.major.x = element_blank()\n",
        "  )"
      ],
      "metadata": {
        "id": "91mAjtfcvHo1",
        "outputId": "305691d0-ac5d-4187-820c-45beea38fdad",
        "colab": {
          "base_uri": "https://localhost:8080/",
          "height": 97
        }
      },
      "execution_count": 13,
      "outputs": [
        {
          "output_type": "error",
          "ename": "ERROR",
          "evalue": "ignored",
          "traceback": [
            "Error in mime2repr[[mime]](plotobj, w, h): attempt to apply non-function\nTraceback:\n"
          ]
        },
        {
          "output_type": "display_data",
          "data": {},
          "metadata": {
            "image/svg": {
              "width": 720,
              "height": 480
            }
          }
        }
      ]
    },
    {
      "cell_type": "markdown",
      "source": [
        "Write a function that plot trends in the percentage of births for all names starting with a specific first letter."
      ],
      "metadata": {
        "id": "XXZRvQTkvS38"
      }
    },
    {
      "cell_type": "code",
      "source": [
        "plot_trends_in_letter <- function(my_letter) {\n",
        "  tbl_names_by_letter |> \n",
        "    # Filter for first_letter = my_letter\n",
        "    filter(first_letter == my_letter) |> \n",
        "    # Initialize a ggplot of pct_births vs. year colored by sex\n",
        "    ggplot(aes(x = pct_births, y = year, color = sex)) +\n",
        "    # Add a line layer\n",
        "    geom_line() +\n",
        "    # Add labels (title, subtitle, caption, x, y)\n",
        "    labs(\n",
        "      title = glue::glue(\"Trends in Names beginning with {my_letter}\"),\n",
        "      subtitle = \"subtile\",\n",
        "      caption = \"caption\",\n",
        "      x = \"pct_births\",\n",
        "      y = 'year'\n",
        "    ) +\n",
        "    # Update y-axis scales to display percentages\n",
        "    scale_y_continuous(labels = scales::percent_format()) +\n",
        "    # Update theme\n",
        "    theme(plot.title.position = \"plot\")\n",
        "}\n",
        "\n",
        "plot_trends_in_letter(\"S\")"
      ],
      "metadata": {
        "id": "obdyA991vMVI",
        "outputId": "14db8750-aa87-42a4-dc2b-cb8e4c38893e",
        "colab": {
          "base_uri": "https://localhost:8080/",
          "height": 97
        }
      },
      "execution_count": 14,
      "outputs": [
        {
          "output_type": "error",
          "ename": "ERROR",
          "evalue": "ignored",
          "traceback": [
            "Error in mime2repr[[mime]](plotobj, w, h): attempt to apply non-function\nTraceback:\n"
          ]
        },
        {
          "output_type": "display_data",
          "data": {},
          "metadata": {
            "image/svg": {
              "width": 720,
              "height": 480
            }
          }
        }
      ]
    },
    {
      "cell_type": "markdown",
      "source": [
        "__Bonus__: How do these plots change when you focus on the `last_letter` instead of the `first_letter`. Feel free to go back and change `first_letter` to  `last_letter` and see what you find. Try to make an educated guess before you run the code, so you can see if your intuition matches up!\n",
        "\n",
        "\n",
        "### Question 4: [Unveiling Letter Combinations] What secrets do the most popular letter combinations hold?\n",
        "\n",
        "Are you ready to explore the fascinating realm of letter combinations in names? This question will guide you through the process of analyzing the joint distribution of births by first and last letters. By examining these intriguing patterns, you'll be able to unveil the most popular letter combinations and how they have evolved over the years.\n",
        "\n",
        "#### Transform"
      ],
      "metadata": {
        "id": "WkqsWZnIvY-R"
      }
    },
    {
      "cell_type": "code",
      "source": [
        "tbl_names_by_first_and_last_letter = tbl_names |> \n",
        "  # Filter for sex = \"F\"\n",
        "  filter(sex == \"F\") |>\n",
        "  # Group by `first_letter`, `last_letter`, and `year`\n",
        "  group_by(first_letter, last_letter, year) |> \n",
        "  # Summarize total number of births\n",
        "  summarize( nb_births = sum(nb_births), \n",
        "             .groups = \"drop\"\n",
        "             ) |> \n",
        "  # Group by `year`\n",
        "  group_by(year) |> \n",
        "  # Add NEW column pct_births by dividing nb_births by sum(nb_births)\n",
        "  mutate(pct_births = nb_births / sum(nb_births)) |>\n",
        "  # Ungroup data\n",
        "  ungroup()\n",
        "\n",
        "tbl_names_by_first_and_last_letter"
      ],
      "metadata": {
        "id": "1EgyJ0pLvVgl",
        "outputId": "3e217e2e-01f5-4e84-d67c-49179414f811",
        "colab": {
          "base_uri": "https://localhost:8080/",
          "height": 1000
        }
      },
      "execution_count": 15,
      "outputs": [
        {
          "output_type": "display_data",
          "data": {
            "text/html": [
              "<table class=\"dataframe\">\n",
              "<caption>A tibble: 43579 × 5</caption>\n",
              "<thead>\n",
              "\t<tr><th scope=col>first_letter</th><th scope=col>last_letter</th><th scope=col>year</th><th scope=col>nb_births</th><th scope=col>pct_births</th></tr>\n",
              "\t<tr><th scope=col>&lt;chr&gt;</th><th scope=col>&lt;chr&gt;</th><th scope=col>&lt;dbl&gt;</th><th scope=col>&lt;dbl&gt;</th><th scope=col>&lt;dbl&gt;</th></tr>\n",
              "</thead>\n",
              "<tbody>\n",
              "\t<tr><td>A</td><td>A</td><td>1880</td><td> 4784</td><td>0.05257490</td></tr>\n",
              "\t<tr><td>A</td><td>A</td><td>1881</td><td> 4966</td><td>0.05400585</td></tr>\n",
              "\t<tr><td>A</td><td>A</td><td>1882</td><td> 5728</td><td>0.05311228</td></tr>\n",
              "\t<tr><td>A</td><td>A</td><td>1883</td><td> 6051</td><td>0.05387334</td></tr>\n",
              "\t<tr><td>A</td><td>A</td><td>1884</td><td> 7038</td><td>0.05455011</td></tr>\n",
              "\t<tr><td>A</td><td>A</td><td>1885</td><td> 7203</td><td>0.05413551</td></tr>\n",
              "\t<tr><td>A</td><td>A</td><td>1886</td><td> 7785</td><td>0.05386313</td></tr>\n",
              "\t<tr><td>A</td><td>A</td><td>1887</td><td> 7814</td><td>0.05352715</td></tr>\n",
              "\t<tr><td>A</td><td>A</td><td>1888</td><td> 9444</td><td>0.05287143</td></tr>\n",
              "\t<tr><td>A</td><td>A</td><td>1889</td><td> 9365</td><td>0.05250440</td></tr>\n",
              "\t<tr><td>A</td><td>A</td><td>1890</td><td> 9809</td><td>0.05152408</td></tr>\n",
              "\t<tr><td>A</td><td>A</td><td>1891</td><td> 9593</td><td>0.05171986</td></tr>\n",
              "\t<tr><td>A</td><td>A</td><td>1892</td><td>10648</td><td>0.05014623</td></tr>\n",
              "\t<tr><td>A</td><td>A</td><td>1893</td><td>10638</td><td>0.04996595</td></tr>\n",
              "\t<tr><td>A</td><td>A</td><td>1894</td><td>10929</td><td>0.04902612</td></tr>\n",
              "\t<tr><td>A</td><td>A</td><td>1895</td><td>11430</td><td>0.04892414</td></tr>\n",
              "\t<tr><td>A</td><td>A</td><td>1896</td><td>11374</td><td>0.04780639</td></tr>\n",
              "\t<tr><td>A</td><td>A</td><td>1897</td><td>10866</td><td>0.04639624</td></tr>\n",
              "\t<tr><td>A</td><td>A</td><td>1898</td><td>11548</td><td>0.04462650</td></tr>\n",
              "\t<tr><td>A</td><td>A</td><td>1899</td><td>10435</td><td>0.04478118</td></tr>\n",
              "\t<tr><td>A</td><td>A</td><td>1900</td><td>12598</td><td>0.04202233</td></tr>\n",
              "\t<tr><td>A</td><td>A</td><td>1901</td><td>10454</td><td>0.04367754</td></tr>\n",
              "\t<tr><td>A</td><td>A</td><td>1902</td><td>10950</td><td>0.04146549</td></tr>\n",
              "\t<tr><td>A</td><td>A</td><td>1903</td><td>10826</td><td>0.04132534</td></tr>\n",
              "\t<tr><td>A</td><td>A</td><td>1904</td><td>11303</td><td>0.04104778</td></tr>\n",
              "\t<tr><td>A</td><td>A</td><td>1905</td><td>11739</td><td>0.04025472</td></tr>\n",
              "\t<tr><td>A</td><td>A</td><td>1906</td><td>11536</td><td>0.03906549</td></tr>\n",
              "\t<tr><td>A</td><td>A</td><td>1907</td><td>12224</td><td>0.03837195</td></tr>\n",
              "\t<tr><td>A</td><td>A</td><td>1908</td><td>12811</td><td>0.03832038</td></tr>\n",
              "\t<tr><td>A</td><td>A</td><td>1909</td><td>12907</td><td>0.03717154</td></tr>\n",
              "\t<tr><td>⋮</td><td>⋮</td><td>⋮</td><td>⋮</td><td>⋮</td></tr>\n",
              "\t<tr><td>Z</td><td>Y</td><td>1992</td><td> 255</td><td>0.0001383053</td></tr>\n",
              "\t<tr><td>Z</td><td>Y</td><td>1993</td><td> 244</td><td>0.0001348882</td></tr>\n",
              "\t<tr><td>Z</td><td>Y</td><td>1994</td><td> 252</td><td>0.0001411339</td></tr>\n",
              "\t<tr><td>Z</td><td>Y</td><td>1995</td><td> 313</td><td>0.0001780043</td></tr>\n",
              "\t<tr><td>Z</td><td>Y</td><td>1996</td><td> 446</td><td>0.0002544496</td></tr>\n",
              "\t<tr><td>Z</td><td>Y</td><td>1997</td><td> 488</td><td>0.0002803784</td></tr>\n",
              "\t<tr><td>Z</td><td>Y</td><td>1998</td><td> 593</td><td>0.0003356476</td></tr>\n",
              "\t<tr><td>Z</td><td>Y</td><td>1999</td><td> 681</td><td>0.0003839681</td></tr>\n",
              "\t<tr><td>Z</td><td>Y</td><td>2000</td><td> 814</td><td>0.0004483095</td></tr>\n",
              "\t<tr><td>Z</td><td>Y</td><td>2001</td><td> 981</td><td>0.0005449319</td></tr>\n",
              "\t<tr><td>Z</td><td>Y</td><td>2002</td><td>1323</td><td>0.0007364594</td></tr>\n",
              "\t<tr><td>Z</td><td>Y</td><td>2003</td><td>1620</td><td>0.0008868660</td></tr>\n",
              "\t<tr><td>Z</td><td>Y</td><td>2004</td><td>1858</td><td>0.0010121673</td></tr>\n",
              "\t<tr><td>Z</td><td>Y</td><td>2005</td><td>2470</td><td>0.0013372017</td></tr>\n",
              "\t<tr><td>Z</td><td>Y</td><td>2006</td><td>3152</td><td>0.0016586200</td></tr>\n",
              "\t<tr><td>Z</td><td>Y</td><td>2007</td><td>3343</td><td>0.0017396463</td></tr>\n",
              "\t<tr><td>Z</td><td>Y</td><td>2008</td><td>3753</td><td>0.0019859244</td></tr>\n",
              "\t<tr><td>Z</td><td>Y</td><td>2009</td><td>4397</td><td>0.0023950458</td></tr>\n",
              "\t<tr><td>Z</td><td>Y</td><td>2010</td><td>5661</td><td>0.0031870998</td></tr>\n",
              "\t<tr><td>Z</td><td>Y</td><td>2011</td><td>6865</td><td>0.0039057566</td></tr>\n",
              "\t<tr><td>Z</td><td>Y</td><td>2012</td><td>8022</td><td>0.0045595970</td></tr>\n",
              "\t<tr><td>Z</td><td>Y</td><td>2013</td><td>7715</td><td>0.0044015867</td></tr>\n",
              "\t<tr><td>Z</td><td>Y</td><td>2014</td><td>7850</td><td>0.0043996644</td></tr>\n",
              "\t<tr><td>Z</td><td>Y</td><td>2015</td><td>7380</td><td>0.0041399946</td></tr>\n",
              "\t<tr><td>Z</td><td>Y</td><td>2016</td><td>6867</td><td>0.0038814943</td></tr>\n",
              "\t<tr><td>Z</td><td>Y</td><td>2017</td><td>6500</td><td>0.0037723957</td></tr>\n",
              "\t<tr><td>Z</td><td>Y</td><td>2018</td><td>6344</td><td>0.0037385447</td></tr>\n",
              "\t<tr><td>Z</td><td>Y</td><td>2019</td><td>6048</td><td>0.0036149979</td></tr>\n",
              "\t<tr><td>Z</td><td>Y</td><td>2020</td><td>5729</td><td>0.0035602183</td></tr>\n",
              "\t<tr><td>Z</td><td>Y</td><td>2021</td><td>5593</td><td>0.0034374082</td></tr>\n",
              "</tbody>\n",
              "</table>\n"
            ],
            "text/markdown": "\nA tibble: 43579 × 5\n\n| first_letter &lt;chr&gt; | last_letter &lt;chr&gt; | year &lt;dbl&gt; | nb_births &lt;dbl&gt; | pct_births &lt;dbl&gt; |\n|---|---|---|---|---|\n| A | A | 1880 |  4784 | 0.05257490 |\n| A | A | 1881 |  4966 | 0.05400585 |\n| A | A | 1882 |  5728 | 0.05311228 |\n| A | A | 1883 |  6051 | 0.05387334 |\n| A | A | 1884 |  7038 | 0.05455011 |\n| A | A | 1885 |  7203 | 0.05413551 |\n| A | A | 1886 |  7785 | 0.05386313 |\n| A | A | 1887 |  7814 | 0.05352715 |\n| A | A | 1888 |  9444 | 0.05287143 |\n| A | A | 1889 |  9365 | 0.05250440 |\n| A | A | 1890 |  9809 | 0.05152408 |\n| A | A | 1891 |  9593 | 0.05171986 |\n| A | A | 1892 | 10648 | 0.05014623 |\n| A | A | 1893 | 10638 | 0.04996595 |\n| A | A | 1894 | 10929 | 0.04902612 |\n| A | A | 1895 | 11430 | 0.04892414 |\n| A | A | 1896 | 11374 | 0.04780639 |\n| A | A | 1897 | 10866 | 0.04639624 |\n| A | A | 1898 | 11548 | 0.04462650 |\n| A | A | 1899 | 10435 | 0.04478118 |\n| A | A | 1900 | 12598 | 0.04202233 |\n| A | A | 1901 | 10454 | 0.04367754 |\n| A | A | 1902 | 10950 | 0.04146549 |\n| A | A | 1903 | 10826 | 0.04132534 |\n| A | A | 1904 | 11303 | 0.04104778 |\n| A | A | 1905 | 11739 | 0.04025472 |\n| A | A | 1906 | 11536 | 0.03906549 |\n| A | A | 1907 | 12224 | 0.03837195 |\n| A | A | 1908 | 12811 | 0.03832038 |\n| A | A | 1909 | 12907 | 0.03717154 |\n| ⋮ | ⋮ | ⋮ | ⋮ | ⋮ |\n| Z | Y | 1992 |  255 | 0.0001383053 |\n| Z | Y | 1993 |  244 | 0.0001348882 |\n| Z | Y | 1994 |  252 | 0.0001411339 |\n| Z | Y | 1995 |  313 | 0.0001780043 |\n| Z | Y | 1996 |  446 | 0.0002544496 |\n| Z | Y | 1997 |  488 | 0.0002803784 |\n| Z | Y | 1998 |  593 | 0.0003356476 |\n| Z | Y | 1999 |  681 | 0.0003839681 |\n| Z | Y | 2000 |  814 | 0.0004483095 |\n| Z | Y | 2001 |  981 | 0.0005449319 |\n| Z | Y | 2002 | 1323 | 0.0007364594 |\n| Z | Y | 2003 | 1620 | 0.0008868660 |\n| Z | Y | 2004 | 1858 | 0.0010121673 |\n| Z | Y | 2005 | 2470 | 0.0013372017 |\n| Z | Y | 2006 | 3152 | 0.0016586200 |\n| Z | Y | 2007 | 3343 | 0.0017396463 |\n| Z | Y | 2008 | 3753 | 0.0019859244 |\n| Z | Y | 2009 | 4397 | 0.0023950458 |\n| Z | Y | 2010 | 5661 | 0.0031870998 |\n| Z | Y | 2011 | 6865 | 0.0039057566 |\n| Z | Y | 2012 | 8022 | 0.0045595970 |\n| Z | Y | 2013 | 7715 | 0.0044015867 |\n| Z | Y | 2014 | 7850 | 0.0043996644 |\n| Z | Y | 2015 | 7380 | 0.0041399946 |\n| Z | Y | 2016 | 6867 | 0.0038814943 |\n| Z | Y | 2017 | 6500 | 0.0037723957 |\n| Z | Y | 2018 | 6344 | 0.0037385447 |\n| Z | Y | 2019 | 6048 | 0.0036149979 |\n| Z | Y | 2020 | 5729 | 0.0035602183 |\n| Z | Y | 2021 | 5593 | 0.0034374082 |\n\n",
            "text/latex": "A tibble: 43579 × 5\n\\begin{tabular}{lllll}\n first\\_letter & last\\_letter & year & nb\\_births & pct\\_births\\\\\n <chr> & <chr> & <dbl> & <dbl> & <dbl>\\\\\n\\hline\n\t A & A & 1880 &  4784 & 0.05257490\\\\\n\t A & A & 1881 &  4966 & 0.05400585\\\\\n\t A & A & 1882 &  5728 & 0.05311228\\\\\n\t A & A & 1883 &  6051 & 0.05387334\\\\\n\t A & A & 1884 &  7038 & 0.05455011\\\\\n\t A & A & 1885 &  7203 & 0.05413551\\\\\n\t A & A & 1886 &  7785 & 0.05386313\\\\\n\t A & A & 1887 &  7814 & 0.05352715\\\\\n\t A & A & 1888 &  9444 & 0.05287143\\\\\n\t A & A & 1889 &  9365 & 0.05250440\\\\\n\t A & A & 1890 &  9809 & 0.05152408\\\\\n\t A & A & 1891 &  9593 & 0.05171986\\\\\n\t A & A & 1892 & 10648 & 0.05014623\\\\\n\t A & A & 1893 & 10638 & 0.04996595\\\\\n\t A & A & 1894 & 10929 & 0.04902612\\\\\n\t A & A & 1895 & 11430 & 0.04892414\\\\\n\t A & A & 1896 & 11374 & 0.04780639\\\\\n\t A & A & 1897 & 10866 & 0.04639624\\\\\n\t A & A & 1898 & 11548 & 0.04462650\\\\\n\t A & A & 1899 & 10435 & 0.04478118\\\\\n\t A & A & 1900 & 12598 & 0.04202233\\\\\n\t A & A & 1901 & 10454 & 0.04367754\\\\\n\t A & A & 1902 & 10950 & 0.04146549\\\\\n\t A & A & 1903 & 10826 & 0.04132534\\\\\n\t A & A & 1904 & 11303 & 0.04104778\\\\\n\t A & A & 1905 & 11739 & 0.04025472\\\\\n\t A & A & 1906 & 11536 & 0.03906549\\\\\n\t A & A & 1907 & 12224 & 0.03837195\\\\\n\t A & A & 1908 & 12811 & 0.03832038\\\\\n\t A & A & 1909 & 12907 & 0.03717154\\\\\n\t ⋮ & ⋮ & ⋮ & ⋮ & ⋮\\\\\n\t Z & Y & 1992 &  255 & 0.0001383053\\\\\n\t Z & Y & 1993 &  244 & 0.0001348882\\\\\n\t Z & Y & 1994 &  252 & 0.0001411339\\\\\n\t Z & Y & 1995 &  313 & 0.0001780043\\\\\n\t Z & Y & 1996 &  446 & 0.0002544496\\\\\n\t Z & Y & 1997 &  488 & 0.0002803784\\\\\n\t Z & Y & 1998 &  593 & 0.0003356476\\\\\n\t Z & Y & 1999 &  681 & 0.0003839681\\\\\n\t Z & Y & 2000 &  814 & 0.0004483095\\\\\n\t Z & Y & 2001 &  981 & 0.0005449319\\\\\n\t Z & Y & 2002 & 1323 & 0.0007364594\\\\\n\t Z & Y & 2003 & 1620 & 0.0008868660\\\\\n\t Z & Y & 2004 & 1858 & 0.0010121673\\\\\n\t Z & Y & 2005 & 2470 & 0.0013372017\\\\\n\t Z & Y & 2006 & 3152 & 0.0016586200\\\\\n\t Z & Y & 2007 & 3343 & 0.0017396463\\\\\n\t Z & Y & 2008 & 3753 & 0.0019859244\\\\\n\t Z & Y & 2009 & 4397 & 0.0023950458\\\\\n\t Z & Y & 2010 & 5661 & 0.0031870998\\\\\n\t Z & Y & 2011 & 6865 & 0.0039057566\\\\\n\t Z & Y & 2012 & 8022 & 0.0045595970\\\\\n\t Z & Y & 2013 & 7715 & 0.0044015867\\\\\n\t Z & Y & 2014 & 7850 & 0.0043996644\\\\\n\t Z & Y & 2015 & 7380 & 0.0041399946\\\\\n\t Z & Y & 2016 & 6867 & 0.0038814943\\\\\n\t Z & Y & 2017 & 6500 & 0.0037723957\\\\\n\t Z & Y & 2018 & 6344 & 0.0037385447\\\\\n\t Z & Y & 2019 & 6048 & 0.0036149979\\\\\n\t Z & Y & 2020 & 5729 & 0.0035602183\\\\\n\t Z & Y & 2021 & 5593 & 0.0034374082\\\\\n\\end{tabular}\n",
            "text/plain": [
              "      first_letter last_letter year nb_births pct_births  \n",
              "1     A            A           1880  4784     0.05257490  \n",
              "2     A            A           1881  4966     0.05400585  \n",
              "3     A            A           1882  5728     0.05311228  \n",
              "4     A            A           1883  6051     0.05387334  \n",
              "5     A            A           1884  7038     0.05455011  \n",
              "6     A            A           1885  7203     0.05413551  \n",
              "7     A            A           1886  7785     0.05386313  \n",
              "8     A            A           1887  7814     0.05352715  \n",
              "9     A            A           1888  9444     0.05287143  \n",
              "10    A            A           1889  9365     0.05250440  \n",
              "11    A            A           1890  9809     0.05152408  \n",
              "12    A            A           1891  9593     0.05171986  \n",
              "13    A            A           1892 10648     0.05014623  \n",
              "14    A            A           1893 10638     0.04996595  \n",
              "15    A            A           1894 10929     0.04902612  \n",
              "16    A            A           1895 11430     0.04892414  \n",
              "17    A            A           1896 11374     0.04780639  \n",
              "18    A            A           1897 10866     0.04639624  \n",
              "19    A            A           1898 11548     0.04462650  \n",
              "20    A            A           1899 10435     0.04478118  \n",
              "21    A            A           1900 12598     0.04202233  \n",
              "22    A            A           1901 10454     0.04367754  \n",
              "23    A            A           1902 10950     0.04146549  \n",
              "24    A            A           1903 10826     0.04132534  \n",
              "25    A            A           1904 11303     0.04104778  \n",
              "26    A            A           1905 11739     0.04025472  \n",
              "27    A            A           1906 11536     0.03906549  \n",
              "28    A            A           1907 12224     0.03837195  \n",
              "29    A            A           1908 12811     0.03832038  \n",
              "30    A            A           1909 12907     0.03717154  \n",
              "⋮     ⋮            ⋮           ⋮    ⋮         ⋮           \n",
              "43550 Z            Y           1992  255      0.0001383053\n",
              "43551 Z            Y           1993  244      0.0001348882\n",
              "43552 Z            Y           1994  252      0.0001411339\n",
              "43553 Z            Y           1995  313      0.0001780043\n",
              "43554 Z            Y           1996  446      0.0002544496\n",
              "43555 Z            Y           1997  488      0.0002803784\n",
              "43556 Z            Y           1998  593      0.0003356476\n",
              "43557 Z            Y           1999  681      0.0003839681\n",
              "43558 Z            Y           2000  814      0.0004483095\n",
              "43559 Z            Y           2001  981      0.0005449319\n",
              "43560 Z            Y           2002 1323      0.0007364594\n",
              "43561 Z            Y           2003 1620      0.0008868660\n",
              "43562 Z            Y           2004 1858      0.0010121673\n",
              "43563 Z            Y           2005 2470      0.0013372017\n",
              "43564 Z            Y           2006 3152      0.0016586200\n",
              "43565 Z            Y           2007 3343      0.0017396463\n",
              "43566 Z            Y           2008 3753      0.0019859244\n",
              "43567 Z            Y           2009 4397      0.0023950458\n",
              "43568 Z            Y           2010 5661      0.0031870998\n",
              "43569 Z            Y           2011 6865      0.0039057566\n",
              "43570 Z            Y           2012 8022      0.0045595970\n",
              "43571 Z            Y           2013 7715      0.0044015867\n",
              "43572 Z            Y           2014 7850      0.0043996644\n",
              "43573 Z            Y           2015 7380      0.0041399946\n",
              "43574 Z            Y           2016 6867      0.0038814943\n",
              "43575 Z            Y           2017 6500      0.0037723957\n",
              "43576 Z            Y           2018 6344      0.0037385447\n",
              "43577 Z            Y           2019 6048      0.0036149979\n",
              "43578 Z            Y           2020 5729      0.0035602183\n",
              "43579 Z            Y           2021 5593      0.0034374082"
            ]
          },
          "metadata": {}
        }
      ]
    },
    {
      "cell_type": "markdown",
      "source": [
        "#### Visualize\n",
        "\n",
        "Now, you will visualize the distribution of `pct_births` by `last_letter` and `first_letter` by plotting a heatmap of the percentage of births by first letter and last letter for the year 2021."
      ],
      "metadata": {
        "id": "3OERt2Uzvl5o"
      }
    },
    {
      "cell_type": "code",
      "source": [
        "tbl_names_by_first_and_last_letter |> \n",
        "  # Filter for the year 2021\n",
        "  filter(year == \"2021\") |>\n",
        "  # Initialize a ggplot of last_letter vs. first_letter\n",
        "  ggplot(aes(x = last_letter, y = first_letter)) +\n",
        "  # Add a `geom_tile` layer with fill mapped to pct_births\n",
        "  geom_tile(aes(fill = pct_births), color = 'black') +\n",
        "  # Add labels (title, subtitle, x, y, fill)\n",
        "  labs(\n",
        "             title = \"title\",\n",
        "             subtitle = \"subtitle\",\n",
        "             caption = \"caption\",\n",
        "             x = \"last_letter\",\n",
        "             y = 'first_letter',\n",
        "             fill = \"% of births\"\n",
        "         ) +\n",
        "  # Update fill scale to use Viridis colors\n",
        "  scale_fill_viridis_b(direction = -1) +\n",
        "  # Update plotting theme\n",
        "  theme(\n",
        "    plot.title.position = \"plot\",\n",
        "    panel.grid = element_blank(),\n",
        "    axis.ticks = element_blank()\n",
        "  )"
      ],
      "metadata": {
        "id": "u001eo1YvmUz",
        "outputId": "46a05f46-be60-4bee-ed6f-004e294b72d2",
        "colab": {
          "base_uri": "https://localhost:8080/",
          "height": 97
        }
      },
      "execution_count": 16,
      "outputs": [
        {
          "output_type": "error",
          "ename": "ERROR",
          "evalue": "ignored",
          "traceback": [
            "Error in mime2repr[[mime]](plotobj, w, h): attempt to apply non-function\nTraceback:\n"
          ]
        },
        {
          "output_type": "display_data",
          "data": {},
          "metadata": {
            "image/svg": {
              "width": 720,
              "height": 480
            }
          }
        }
      ]
    },
    {
      "cell_type": "markdown",
      "source": [
        "### Question 5: [Vowels vs Consonants] Are there naming trends in usage of vowels and consonants?\n",
        "\n",
        "Do certain combinations of vowels and consonants tend to appear more often in names? Are there any notable changes in these patterns over the years? In this question, we'll explore the fascinating world of vowel and consonant usage in names across time. This can help us understand how the structure of names has evolved and what factors may have influenced these changes. By diving into these linguistic aspects, you'll gain a greater appreciation for the intricacies and diversity of names in our dataset. Let's dive in and uncover the trends in the usage of vowels and consonants!\n",
        "\n",
        "#### Transform\n",
        "\n",
        "In this step, you will create a function to identify whether a letter is a vowel or a consonant. Then, you will use this function to categorize the first and last letters in names as either vowels or consonants. After that, you will group the data by sex, year, and letter type (vowel or consonant) to calculate the percentage of births for each combination of first and last letter types."
      ],
      "metadata": {
        "id": "upLRH3wPvrHi"
      }
    },
    {
      "cell_type": "code",
      "source": [
        "get_letter_type <- function(letter) {\n",
        "  VOWELS <- c(\"A\", \"E\", \"I\", \"O\", \"U\")\n",
        "  ifelse(letter %in% VOWELS, 'vowel', 'consonant')\n",
        "}\n",
        "\n",
        "tbl_names_vowel_consonant <- tbl_names |> \n",
        "  # Add NEW column named `first_letter_type`\n",
        "  \n",
        "  # Add NEW column named `last_letter_type`\n",
        "  \n",
        "  # Group by `sex`, `year`, `first_letter_type` and `last_letter_type`\n",
        "  \n",
        "  # Summarize the total number of births\n",
        "  \n",
        "  \n",
        "  \n",
        "  \n",
        "  # Group by `sex` and` `year`\n",
        "  \n",
        "  # Add NEW column with `pct_births` calculated as `nb_births / sum(nb_births)`\n",
        "   \n",
        "  # Ungroup the data\n",
        "  \n",
        "  # Unite `first_letter_type` and `last_letter_type` into a NEW column named `first_last`\n",
        " \n",
        "\n",
        "head(tbl_names_vowel_consonant)"
      ],
      "metadata": {
        "id": "c9KTxgGvvoa1"
      },
      "execution_count": null,
      "outputs": []
    },
    {
      "cell_type": "markdown",
      "source": [
        "#### Visualize\n",
        "\n",
        "Now, you will create a visualization to display the trends in the usage of vowels and consonants in names over time. The visualization will show the percentage of births by the combination of first and last letter types, separately for each sex."
      ],
      "metadata": {
        "id": "Ud3sM2eZvxYE"
      }
    },
    {
      "cell_type": "code",
      "source": [
        "tbl_names_vowel_consonant |> \n",
        "  # Reorder `first_last` by the median `pct_births`\n",
        "  mutate(first_last = fct_reorder(first_last, pct_births, median)) |>\n",
        "  # Initialize a ggplot of `pct_births` vs. `year`\n",
        "  \n",
        "  # Add an area layer with fill = first_last\n",
        "  \n",
        "  # Facet wrap plot by `sex`\n",
        "  \n",
        "  # Add labels (title, subtitle, caption, x, y)\n",
        "  \n",
        "  \n",
        "  \n",
        "  \n",
        "\n",
        "\n",
        "\n",
        "\n",
        "  # Clean up x and y axis scales\n",
        "  scale_x_continuous(\n",
        "    expand = c(0, 0)\n",
        "  ) +\n",
        "  scale_y_continuous(\n",
        "    expand = c(0, 0),\n",
        "    labels = scales::percent_format()\n",
        "  ) +\n",
        "  # Use Viridis colors for fill\n",
        "  scale_fill_viridis_d() +\n",
        "  # Update plotting theme\n",
        "  theme(\n",
        "    plot.title.position = 'plot',\n",
        "    legend.position = 'bottom'\n",
        "  )"
      ],
      "metadata": {
        "id": "JELt1WIVvuH9"
      },
      "execution_count": null,
      "outputs": []
    },
    {
      "cell_type": "markdown",
      "source": [
        "__Note__: The fct_reorder() function is a useful tool for reordering the levels of a factor based on the values of another variable. This function can be particularly helpful when creating visualizations, as it allows you to display data in a more organized and informative manner. In this exercise, fct_reorder() is used to reorder the levels of the first_last factor according to the median of the pct_births variable. By doing so, the resulting plot will show the trends in vowels and consonants usage in a more structured way, making it easier to identify and interpret the patterns."
      ],
      "metadata": {
        "id": "XV_clX2sv14i"
      }
    },
    {
      "cell_type": "markdown",
      "source": [
        "## MORE BONUS\n",
        "\n",
        "You can turn your plots into a beautiful dashboard with minimal effort. An Rmarkdown dashboard template has been provided for you. Open the file [project-01-explore-babynames-flexdashboard.Rmd](project-01-explore-babynames-flexdashboard.Rmd). It has placeholders for code, where you can paste the completed code chunks from this document. Pay close attention to the labels of the chunks referred to."
      ],
      "metadata": {
        "id": "GmsSPPG2v5Q9"
      }
    }
  ]
}