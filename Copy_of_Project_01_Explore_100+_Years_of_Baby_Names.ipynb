{
  "nbformat": 4,
  "nbformat_minor": 0,
  "metadata": {
    "colab": {
      "provenance": [],
      "include_colab_link": true
    },
    "kernelspec": {
      "name": "ir",
      "display_name": "R"
    },
    "language_info": {
      "name": "R"
    }
  },
  "cells": [
    {
      "cell_type": "markdown",
      "metadata": {
        "id": "view-in-github",
        "colab_type": "text"
      },
      "source": [
        "<a href=\"https://colab.research.google.com/github/akumar901/corise-r-for-ds/blob/main/Copy_of_Project_01_Explore_100%2B_Years_of_Baby_Names.ipynb\" target=\"_parent\"><img src=\"https://colab.research.google.com/assets/colab-badge.svg\" alt=\"Open In Colab\"/></a>"
      ]
    },
    {
      "cell_type": "markdown",
      "source": [
        "> __DUPLICATE THIS COLAB TO START WORKING ON IT. Using File > Save a copy to drive.__\n"
      ],
      "metadata": {
        "id": "PyJIk3foxdFk"
      }
    },
    {
      "cell_type": "markdown",
      "source": [
        "## Exploring 100+ Years of US Baby Names\n",
        "\n",
        "In this project, we will explore 100+ years of US Baby Names. Although this dataset only has 4 columns, there are so many interesting  questions one could explore. While the possibilities are endless, here are five interesting questions for you to explore.\n",
        "\n",
        "1. Popular Names: What are the most popular names?\n",
        "2. Trendy Names: What are trendy names?\n",
        "3. Popular Letters: What are the most popular letters in names?\n",
        "4. Popular Letter Combinations: What are the most popular letter combinations?\n",
        "5. Vowels vs Consonants: Are there naming trends in usage of vowels and consonants?\n",
        "\n",
        "You need to complete at least the first three questions. The last two questions are optional."
      ],
      "metadata": {
        "id": "R8ScgVoiuQ_a"
      }
    },
    {
      "cell_type": "markdown",
      "source": [
        "### Import\n",
        "Let us start by importing the data from `data/names.csv.gz`. You can use the `read_csv` function from the `readr` package to do this."
      ],
      "metadata": {
        "id": "U1jA9o5YuWWH"
      }
    },
    {
      "cell_type": "code",
      "source": [
        "options(repr.plot.width = 12)\n",
        "options(repr.plot.height = 8)\n",
        "options(jupyter.plot_mimetypes = \"image/svg+xml\") \n",
        "ggplot2::theme_set(ggplot2::theme_gray(base_size = 16))"
      ],
      "metadata": {
        "id": "IsacrSw4uEyc"
      },
      "execution_count": null,
      "outputs": []
    },
    {
      "cell_type": "code",
      "execution_count": null,
      "metadata": {
        "id": "cKUv7xeStYPr"
      },
      "outputs": [],
      "source": [
        "# Load the tidyverse package\n",
        "library(tidyverse)\n",
        "\n",
        "# Read the csv file `file_name_names` as data frame `tbl_names`\n",
        "file_name_names <- \"https://github.com/ramnathv/corise-r-for-ds/raw/main/data/names.csv.gz\"\n",
        "tbl_names <- readr::read_csv(\n",
        "  file = ___, \n",
        "  show_col_types = FALSE\n",
        ")\n",
        "\n",
        "# Print head of `tbl_names`\n"
      ]
    },
    {
      "cell_type": "markdown",
      "source": [
        "### Question 1: [Popular Names] What are the most popular names?\n",
        "\n",
        "One of the first things we want to do is to understand naming trends. Let us \n",
        "start by figuring out the top five most popular male and female names for this \n",
        "decade (born 2011 and after, but before 2021). Do you want to make any guesses?  \n",
        "\n",
        "#### Transform\n",
        "\n",
        "The first step is always to transform the data into a form that is easy to visualize. If we create a table with `sex`, `name` and `nb_births` for the top 5 names for each `sex`, then we can turn it into a column plot using `ggplot2`. Let us get the five most popular male and female names of the decade starting in 2011."
      ],
      "metadata": {
        "id": "kZfY5wdbt0Cv"
      }
    },
    {
      "cell_type": "code",
      "source": [
        "tbl_names_popular = tbl_names |> \n",
        "  # Keep ROWS for year > 2010 and <= 2020\n",
        "  filter(year > ___, ___ <= ___) |> \n",
        "  # Group by sex and name\n",
        "  group_by(___, ___) |> \n",
        "  # Summarize the number of births\n",
        "  summarize(\n",
        "    nb_births = ___(nb_births),\n",
        "    .groups = \"drop\"\n",
        "  ) |> \n",
        "  # Group by sex \n",
        "  ___(___) |>  \n",
        "  # For each sex, keep the top 5 rows by number of births\n",
        "  slice_max(___, n = ___)\n",
        "\n",
        "tbl_names_popular"
      ],
      "metadata": {
        "id": "3rPxUUcLt0bt"
      },
      "execution_count": null,
      "outputs": []
    },
    {
      "cell_type": "markdown",
      "source": [
        "#### Visualize\n",
        "\n",
        "Let us now visualize this data as a horizontal bar plot of number of births by name faceted by sex.\n",
        "\n",
        "Here, when thinking about how we might label this table, look back to the statement of the question. Make sure to use this information in a way so that the title, subtitle, and caption provide your reader with concise, descriptive language so that viewers can quickly grasp the plot's purpose and findings."
      ],
      "metadata": {
        "id": "R1pc_j7vt5G9"
      }
    },
    {
      "cell_type": "code",
      "source": [
        "tbl_names_popular |> \n",
        "  # Reorder the names by number of births\n",
        "  mutate(name = fct_reorder(name, nb_births)) |>\n",
        "  # Initialize a ggplot for name vs. nb_births\n",
        "  ggplot(aes(x = nb_births, y = name)) +\n",
        "  # Add a column plot layer\n",
        "  geom_col() +\n",
        "  # Facet the plots by sex\n",
        "  facet_wrap(~ sex, scales = \"free_y\") +\n",
        "  # Add labels (title, subtitle, caption, x, y)\n",
        "  labs(\n",
        "    title = 'Most Popular Names of the Decade',\n",
        "    subtitle = 'Emma and Noah are the most popular names of the decade',\n",
        "    caption = 'Source: SSA',\n",
        "    x = '# Births',\n",
        "    y = NULL\n",
        "  ) +\n",
        "  # Fix the x-axis scale \n",
        "  scale_x_continuous(\n",
        "    labels = scales::unit_format(scale = 1e-3, unit = \"K\"),\n",
        "    expand = c(0, 0),\n",
        "  ) +\n",
        "  # Move the plot title to top left\n",
        "  theme(\n",
        "    plot.title.position = 'plot'\n",
        "  )"
      ],
      "metadata": {
        "id": "Ua0bndPVt5el"
      },
      "execution_count": null,
      "outputs": []
    },
    {
      "cell_type": "markdown",
      "source": [
        "### Question 2: [Trendy Names] What are trendy names?\n",
        "\n",
        "Consider the following two names `Elizabeth` and `Deneen`. `Elizabeth` is a \n",
        "fairly stable name, while `Deneen` is not, when one looks at trends. An interesting question to ask would be what are the top 5 stable and top 5 \n",
        "trendiest names. A stable name is one whose numbers across years don't vary drastically, while a trendy name is one whose popularity peaks for a short period \n",
        "and then dies down.\n",
        "\n",
        "There are many ways to capture trendiness. A simple measure would be to look at the maximum number of births for a name, normalized by the sum of \n",
        "of births across years. A trendy name would have a high value.\n",
        "\n",
        "Let us use this idea to figure out the top 10 trendy names in this data set. Let\n",
        "us use a cutoff of at least a 1000 births across all the years, so we don't pick up low-volume names. Feel free to experiment with this threshold as you see fit.\n",
        "\n",
        "#### Transform\n",
        "\n",
        "We need to transform the data into a table that consists of the columns `sex`, `name`, `nb_births_total`, `nb_births_max` and `trendiness`. We compute \n",
        "`nb_births_total` as the total number of births across all years, and `nb_births_max` as the maximum number of births for a given name across all years. Finally, we compute trendiness as a ratio of these two numbers. Follow the recipe outlined below to carry out the transformation."
      ],
      "metadata": {
        "id": "qWk6IP1Ducnr"
      }
    },
    {
      "cell_type": "code",
      "source": [
        "tbl_names_popular_trendy = tbl_names |> \n",
        "  # Group by sex and name\n",
        "  ___(___, ___) |> \n",
        "  # Summarize total number of births and max births in a year\n",
        "  summarize(\n",
        "    nb_births_total = ___(___),\n",
        "    nb_births_max = ___(___),\n",
        "    .groups = \"drop\"\n",
        "  ) |> \n",
        "  # Filter for names with at least 10000 births\n",
        "  ___(___ > ___) |> \n",
        "  # Add a column for trendiness computed as ratio of max to total\n",
        "  ___(___ = ___ / ___) |> \n",
        "  # Group by sex\n",
        "  ___(___) |> \n",
        "  # Slice top 5 rows by trendiness for each group\n",
        "  ___(___, n = ___)\n",
        "\n",
        "head(tbl_names_popular_trendy)"
      ],
      "metadata": {
        "id": "ny07bmMkudk-"
      },
      "execution_count": null,
      "outputs": []
    },
    {
      "cell_type": "markdown",
      "source": [
        "\n",
        "Note: There are always several different approaches to the same transformation. When it comes to learning, there's no one-size-fits-all solution. One way to make your learning stick is by trying to solve a problem in different ways. Even if you don't get to the final answer, you will learn a lot by exploring different approaches."
      ],
      "metadata": {
        "id": "DEAeeSujulQ0"
      }
    },
    {
      "cell_type": "markdown",
      "source": [
        "#### Visualize\n",
        "\n",
        "Let us write a function that will accept a name as an argument and return a plot with trends in number of births. We can then use this function to plot the trends for different names."
      ],
      "metadata": {
        "id": "1epLgxtDuqVo"
      }
    },
    {
      "cell_type": "code",
      "source": [
        "plot_trends_in_name <- function(my_name) {\n",
        "  tbl_names |> \n",
        "    # Filter for name = my_name\n",
        "    ___(___ == my_name) |> \n",
        "    # Initialize a ggplot of `nb_births` vs. `year` colored by `sex`\n",
        "    ___(___(x = ___, y = ___, color = ___)) +\n",
        "    # Add a line layer\n",
        "    ___() +\n",
        "    # Add labels (title, x, y)\n",
        "    labs(\n",
        "      title = glue::glue(\"Babies named {my_name} across the years!\"),\n",
        "      x = '___',\n",
        "      y = '___'\n",
        "    ) +\n",
        "    # Update plot theme\n",
        "    theme(plot.title.position = \"plot\")\n",
        "}\n",
        "\n",
        "plot_trends_in_name(\"Steve\")\n",
        "plot_trends_in_name(\"Barbara\")"
      ],
      "metadata": {
        "id": "6QXMUSvbufd7"
      },
      "execution_count": null,
      "outputs": []
    },
    {
      "cell_type": "markdown",
      "source": [
        "### Question 3: [Popular Letters] What are the most popular letters in names?\n",
        "\n",
        "Have you ever wondered why some letters seem to be more prevalent in names than others? In this question, you will embark on a journey to uncover the reasons behind the popularity of specific letters in names. This investigation will lead you to interesting insights about how the popularity of letters in names has changed over time and the potential factors that have influenced these trends.\n",
        "\n",
        "1. How have the first and last letters in names changed over the years by sex?\n",
        "2. What are the trends in percentage of names with a given first or last letter across years.\n",
        "3. What are the most popular combinations of first and last letters?"
      ],
      "metadata": {
        "id": "4qbrjkCMu5Aq"
      }
    },
    {
      "cell_type": "markdown",
      "source": [
        "#### Transform\n",
        "\n",
        "Let us start by transforming the data and adding two columns, one for `first_letter` and one for `last_letter`. You can use the `str_sub()` function from the `stringr` package to do this."
      ],
      "metadata": {
        "id": "gS4smFGBu8Iv"
      }
    },
    {
      "cell_type": "code",
      "source": [
        "tbl_names = tbl_names |> \n",
        "  # Add NEW column first_letter by extracting `first_letter` from name using `str_sub`\n",
        "  mutate(first_letter = str_sub(name, 1, 1)) |>  \n",
        "  # Add NEW column last_letter by extracting `last_letter` from name using `str_sub`\n",
        "  ___(last_letter = ___(name, -1, -1)) |> \n",
        "  # UPDATE column `last_letter` to upper case using `str_to_upper`\n",
        "  ___(last_letter = ___(___))\n",
        "\n",
        "head(tbl_names)"
      ],
      "metadata": {
        "id": "6I2UeN5husmn"
      },
      "execution_count": null,
      "outputs": []
    },
    {
      "cell_type": "markdown",
      "source": [
        "Begin by computing the distribution of births across year and sex by first letter of a name."
      ],
      "metadata": {
        "id": "jv0d7sTxvEA3"
      }
    },
    {
      "cell_type": "code",
      "source": [
        "tbl_names_by_letter = tbl_names |> \n",
        "  # Group by year, sex and first_letter\n",
        "  ___(___, ___, ___) |> \n",
        "  # Summarize total number of births, drop the grouping\n",
        "  ___(___ = ___(___), .groups = \"drop\") |> \n",
        "  # Group by year and sex\n",
        "  ___(___, ___) |> \n",
        "  # Add NEW column pct_births by dividing nb_births by sum(nb_births)\n",
        "  mutate(pct_births = ___ / sum(___))\n",
        "    \n",
        "head(tbl_names_by_letter)"
      ],
      "metadata": {
        "id": "tg-vQZI3u-EM"
      },
      "execution_count": null,
      "outputs": []
    },
    {
      "cell_type": "markdown",
      "source": [
        "#### Visualize\n",
        "\n",
        "Visualize the distribution of births by first letter for the year 2020, faceted by sex."
      ],
      "metadata": {
        "id": "ze4FjOK8vJyF"
      }
    },
    {
      "cell_type": "code",
      "source": [
        "tbl_names_by_letter |> \n",
        "  # Filter for the year 2020\n",
        "   \n",
        "  # Initialize a ggplot of pct_births vs. first_letter\n",
        "  \n",
        "  # Add a column layer using `geom_col()`\n",
        "  \n",
        "  # Facet wrap plot by sex\n",
        "  \n",
        "  # Add labels (title, subtitle, x, y)\n",
        "  \n",
        "  \n",
        "\n",
        "\n",
        "\n",
        "\n",
        "  \n",
        "  # Fix scales of y axis\n",
        "  scale_y_continuous(\n",
        "    expand = c(0, 0),\n",
        "    labels = scales::percent_format(accuracy = 1L)\n",
        "  ) +\n",
        "  # Update plotting theme\n",
        "  theme(\n",
        "    plot.title.position = \"plot\",\n",
        "    axis.ticks.x = element_blank(),\n",
        "    panel.grid.major.x = element_blank()\n",
        "  )"
      ],
      "metadata": {
        "id": "91mAjtfcvHo1"
      },
      "execution_count": null,
      "outputs": []
    },
    {
      "cell_type": "markdown",
      "source": [
        "Write a function that plot trends in the percentage of births for all names starting with a specific first letter."
      ],
      "metadata": {
        "id": "XXZRvQTkvS38"
      }
    },
    {
      "cell_type": "code",
      "source": [
        "plot_trends_in_letter <- function(my_letter) {\n",
        "  tbl_names_by_letter |> \n",
        "    # Filter for first_letter = my_letter\n",
        "    filter(first_letter == my_letter) |> \n",
        "    # Initialize a ggplot of pct_births vs. year colored by sex\n",
        "    \n",
        "    # Add a line layer\n",
        "    \n",
        "    # Add labels (title, subtitle, caption, x, y)\n",
        "    labs(\n",
        "      title = glue::glue(\"Trends in Names beginning with {my_letter}\"),\n",
        "      subtitle = \"___\",\n",
        "      caption = \"___\",\n",
        "      x = \"___\",\n",
        "      y = '___'\n",
        "    ) +\n",
        "    # Update y-axis scales to display percentages\n",
        "    scale_y_continuous(labels = scales::percent_format()) +\n",
        "    # Update theme\n",
        "    theme(plot.title.position = \"plot\")\n",
        "}\n",
        "\n",
        "plot_trends_in_letter(\"S\")"
      ],
      "metadata": {
        "id": "obdyA991vMVI"
      },
      "execution_count": null,
      "outputs": []
    },
    {
      "cell_type": "markdown",
      "source": [
        "__Bonus__: How do these plots change when you focus on the `last_letter` instead of the `first_letter`. Feel free to go back and change `first_letter` to  `last_letter` and see what you find. Try to make an educated guess before you run the code, so you can see if your intuition matches up!\n",
        "\n",
        "\n",
        "### Question 4: [Unveiling Letter Combinations] What secrets do the most popular letter combinations hold?\n",
        "\n",
        "Are you ready to explore the fascinating realm of letter combinations in names? This question will guide you through the process of analyzing the joint distribution of births by first and last letters. By examining these intriguing patterns, you'll be able to unveil the most popular letter combinations and how they have evolved over the years.\n",
        "\n",
        "#### Transform"
      ],
      "metadata": {
        "id": "WkqsWZnIvY-R"
      }
    },
    {
      "cell_type": "code",
      "source": [
        "tbl_names_by_first_and_last_letter = tbl_names |> \n",
        "  # Filter for sex = \"F\"\n",
        "  \n",
        "  # Group by `first_letter`, `last_letter`, and `year`\n",
        "  \n",
        "  # Summarize total number of births\n",
        "  \n",
        "  \n",
        "  \n",
        "  \n",
        "  # Group by `year`\n",
        "  \n",
        "  # Add NEW column pct_births by dividing nb_births by sum(nb_births)\n",
        "\n",
        "  # Ungroup data\n",
        "\n",
        "\n",
        "head(tbl_names_by_first_and_last_letter)"
      ],
      "metadata": {
        "id": "1EgyJ0pLvVgl"
      },
      "execution_count": null,
      "outputs": []
    },
    {
      "cell_type": "markdown",
      "source": [
        "#### Visualize\n",
        "\n",
        "Now, you will visualize the distribution of `pct_births` by `last_letter` and `first_letter` by plotting a heatmap of the percentage of births by first letter and last letter for the year 2021."
      ],
      "metadata": {
        "id": "3OERt2Uzvl5o"
      }
    },
    {
      "cell_type": "code",
      "source": [
        "tbl_names_by_first_and_last_letter |> \n",
        "  # Filter for the year 2021\n",
        "  \n",
        "  # Initialize a ggplot of last_letter vs. first_letter\n",
        "  \n",
        "  # Add a `geom_tile` layer with fill mapped to pct_births\n",
        "  \n",
        "  # Add labels (title, subtitle, x, y, fill)\n",
        " \n",
        "  \n",
        "  \n",
        "  \n",
        "\n",
        "\n",
        "\n",
        "  # Update fill scale to use Viridis colors\n",
        "  scale_fill_viridis_b(direction = -1) +\n",
        "  # Update plotting theme\n",
        "  theme(\n",
        "    plot.title.position = \"plot\",\n",
        "    panel.grid = element_blank(),\n",
        "    axis.ticks = element_blank()\n",
        "  )"
      ],
      "metadata": {
        "id": "u001eo1YvmUz"
      },
      "execution_count": null,
      "outputs": []
    },
    {
      "cell_type": "markdown",
      "source": [
        "### Question 5: [Vowels vs Consonants] Are there naming trends in usage of vowels and consonants?\n",
        "\n",
        "Do certain combinations of vowels and consonants tend to appear more often in names? Are there any notable changes in these patterns over the years? In this question, we'll explore the fascinating world of vowel and consonant usage in names across time. This can help us understand how the structure of names has evolved and what factors may have influenced these changes. By diving into these linguistic aspects, you'll gain a greater appreciation for the intricacies and diversity of names in our dataset. Let's dive in and uncover the trends in the usage of vowels and consonants!\n",
        "\n",
        "#### Transform\n",
        "\n",
        "In this step, you will create a function to identify whether a letter is a vowel or a consonant. Then, you will use this function to categorize the first and last letters in names as either vowels or consonants. After that, you will group the data by sex, year, and letter type (vowel or consonant) to calculate the percentage of births for each combination of first and last letter types."
      ],
      "metadata": {
        "id": "upLRH3wPvrHi"
      }
    },
    {
      "cell_type": "code",
      "source": [
        "get_letter_type <- function(letter) {\n",
        "  VOWELS <- c(\"A\", \"E\", \"I\", \"O\", \"U\")\n",
        "  ifelse(letter %in% VOWELS, 'vowel', 'consonant')\n",
        "}\n",
        "\n",
        "tbl_names_vowel_consonant <- tbl_names |> \n",
        "  # Add NEW column named `first_letter_type`\n",
        "  \n",
        "  # Add NEW column named `last_letter_type`\n",
        "  \n",
        "  # Group by `sex`, `year`, `first_letter_type` and `last_letter_type`\n",
        "  \n",
        "  # Summarize the total number of births\n",
        "  \n",
        "  \n",
        "  \n",
        "  \n",
        "  # Group by `sex` and` `year`\n",
        "  \n",
        "  # Add NEW column with `pct_births` calculated as `nb_births / sum(nb_births)`\n",
        "   \n",
        "  # Ungroup the data\n",
        "  \n",
        "  # Unite `first_letter_type` and `last_letter_type` into a NEW column named `first_last`\n",
        " \n",
        "\n",
        "head(tbl_names_vowel_consonant)"
      ],
      "metadata": {
        "id": "c9KTxgGvvoa1"
      },
      "execution_count": null,
      "outputs": []
    },
    {
      "cell_type": "markdown",
      "source": [
        "#### Visualize\n",
        "\n",
        "Now, you will create a visualization to display the trends in the usage of vowels and consonants in names over time. The visualization will show the percentage of births by the combination of first and last letter types, separately for each sex."
      ],
      "metadata": {
        "id": "Ud3sM2eZvxYE"
      }
    },
    {
      "cell_type": "code",
      "source": [
        "tbl_names_vowel_consonant |> \n",
        "  # Reorder `first_last` by the median `pct_births`\n",
        "  mutate(first_last = fct_reorder(first_last, pct_births, median)) |>\n",
        "  # Initialize a ggplot of `pct_births` vs. `year`\n",
        "  \n",
        "  # Add an area layer with fill = first_last\n",
        "  \n",
        "  # Facet wrap plot by `sex`\n",
        "  \n",
        "  # Add labels (title, subtitle, caption, x, y)\n",
        "  \n",
        "  \n",
        "  \n",
        "  \n",
        "\n",
        "\n",
        "\n",
        "\n",
        "  # Clean up x and y axis scales\n",
        "  scale_x_continuous(\n",
        "    expand = c(0, 0)\n",
        "  ) +\n",
        "  scale_y_continuous(\n",
        "    expand = c(0, 0),\n",
        "    labels = scales::percent_format()\n",
        "  ) +\n",
        "  # Use Viridis colors for fill\n",
        "  scale_fill_viridis_d() +\n",
        "  # Update plotting theme\n",
        "  theme(\n",
        "    plot.title.position = 'plot',\n",
        "    legend.position = 'bottom'\n",
        "  )"
      ],
      "metadata": {
        "id": "JELt1WIVvuH9"
      },
      "execution_count": null,
      "outputs": []
    },
    {
      "cell_type": "markdown",
      "source": [
        "__Note__: The fct_reorder() function is a useful tool for reordering the levels of a factor based on the values of another variable. This function can be particularly helpful when creating visualizations, as it allows you to display data in a more organized and informative manner. In this exercise, fct_reorder() is used to reorder the levels of the first_last factor according to the median of the pct_births variable. By doing so, the resulting plot will show the trends in vowels and consonants usage in a more structured way, making it easier to identify and interpret the patterns."
      ],
      "metadata": {
        "id": "XV_clX2sv14i"
      }
    },
    {
      "cell_type": "markdown",
      "source": [
        "## MORE BONUS\n",
        "\n",
        "You can turn your plots into a beautiful dashboard with minimal effort. An Rmarkdown dashboard template has been provided for you. Open the file [project-01-explore-babynames-flexdashboard.Rmd](project-01-explore-babynames-flexdashboard.Rmd). It has placeholders for code, where you can paste the completed code chunks from this document. Pay close attention to the labels of the chunks referred to."
      ],
      "metadata": {
        "id": "GmsSPPG2v5Q9"
      }
    }
  ]
}